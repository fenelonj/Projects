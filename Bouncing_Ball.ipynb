{
 "cells": [
  {
   "cell_type": "code",
   "execution_count": 2,
   "metadata": {},
   "outputs": [
    {
     "data": {
      "text/plain": [
       "Text(0.5, 1.0, 'Vertical Position with Air Resistance')"
      ]
     },
     "execution_count": 2,
     "metadata": {},
     "output_type": "execute_result"
    },
    {
     "data": {
      "image/png": "[encoded data removed]",
      "text/plain": [
       "<Figure size 432x288 with 1 Axes>"
      ]
     },
     "metadata": {
      "needs_background": "light"
     },
     "output_type": "display_data"
    }
   ],
   "source": [
    "import matplotlib.pyplot as plt\n",
    "%matplotlib inline\n",
    "import numpy as np\n",
    "# initializing all coniditions\n",
    "m = 0.2 # mass in kg\n",
    "g = 9.81 # gravitational acceleration m/s/s\n",
    "h = 2 # initial height in m\n",
    "vx0 = 100 # velocity in x-direction m/s\n",
    "vy0 = 10 # velocity in y-direction m/s\n",
    "D = 0.1 # drag coefficient\n",
    "R = 0.1 # radius of ball in m\n",
    "k = 1000 # spring constant of ball N/m\n",
    "t0 = 0 # initial start time in sec\n",
    "tf = 6 # final time in sec\n",
    "dt = 0.001 # time differential\n",
    "# initializing all arrays necesarry to perform the calculation\n",
    "time = np.arange(t0,tf,dt) \n",
    "posx = np.zeros(len(time)) # x-position\n",
    "posy = np.zeros(len(time)) # y-position\n",
    "velx = np.zeros(len(time)) # velocity in x-direction\n",
    "vely = np.zeros(len(time)) # velocity in y-direction\n",
    "accelx = np.zeros(len(time)) # acceleration in x-direction\n",
    "accely = np.zeros(len(time)) # acceleration in y-direction\n",
    "# setting the initial array values to the inititial conditions we defined above\n",
    "posy[0] = h\n",
    "velx[0] = vx0\n",
    "vely[0] = vy0\n",
    "# here we used the standard Euler method to perform the calculations to find the position of the ball\n",
    "for i in range(len(time)-1):\n",
    "    # y and x acceleration are different since the gravitational acceleration is only present in the y-direction\n",
    "    accely[i] = -g - D/m*((velx[i]**2+vely[i]**2)**(0.5))*vely[i] \n",
    "    accelx[i] = -D/m*((velx[i]**2+vely[i]**2)**(0.5))*velx[i] # acceleration due to air resistance\n",
    "    normaccel = np.zeros(len(time)) # acceleration when the ball hits the ground\n",
    "    # if y-position is less than the balls radius then the ball will be hitting the ground and bouncing up\n",
    "    # this section is for when the ball is hitting the ground and bouncing up\n",
    "    if posy[i] < R:\n",
    "        normaccel[i+1] = -k/m*(R-posy[i])\n",
    "        accely[i+1] =  -accely[i] - normaccel[i]\n",
    "        vely[i+1] = -vely[i] + accely[i]*dt\n",
    "        posy[i+1] = posy[i] - vely[i]*dt\n",
    "    # when the ball is not hitting the ground\n",
    "    else:\n",
    "        vely[i+1] = vely[i] + accely[i]*dt\n",
    "        velx[i+1] = velx[i] + accelx[i]*dt\n",
    "        accely[i+1] = accely[i] + (-g - D/m*((velx[i]**2+vely[i]**2)**(0.5))*vely[i])*dt\n",
    "        accelx[i+1] = accelx[i] -D/m*((velx[i]**2+vely[i]**2)**(0.5))*velx[i]*dt \n",
    "        posy[i+1] = posy[i] + vely[i]*dt\n",
    "        posx[i+1] = posx[i] + velx[i]*dt\n",
    "    # once the ball is done bouncing it won't go through the floor so once posy < 0, the simulation is over\n",
    "    if posy[i+1] < 0:\n",
    "        break\n",
    "# plotting the motion\n",
    "plt.plot(time, posy)\n",
    "plt.title('Vertical Position with Air Resistance')"
   ]
  },
  {
   "cell_type": "markdown",
   "metadata": {},
   "source": [
    "Here in this simulation we assumed that the bouncing force of the ball could be modeled as that of a spring force, hence why I defined a spring constant, k, in the code above."
   ]
  },
  {
   "cell_type": "code",
   "execution_count": null,
   "metadata": {},
   "outputs": [],
   "source": []
  }
 ],
 "metadata": {
  "kernelspec": {
   "display_name": "Python 3",
   "language": "python",
   "name": "python3"
  },
  "language_info": {
   "codemirror_mode": {
    "name": "ipython",
    "version": 3
   },
   "file_extension": ".py",
   "mimetype": "text/x-python",
   "name": "python",
   "nbconvert_exporter": "python",
   "pygments_lexer": "ipython3",
   "version": "3.7.4"
  }
 },
 "nbformat": 4,
 "nbformat_minor": 2
}

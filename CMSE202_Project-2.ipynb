{
 "cells": [
  {
   "cell_type": "markdown",
   "metadata": {},
   "source": [
    "# CMSE 202 Project - Predicting Outcomes of Football Games Based on In-Game Statistics"
   ]
  },
  {
   "cell_type": "markdown",
   "metadata": {},
   "source": [
    "Our overall goal of this project was to try and see if we could predict the outcome of any NFL football game based on all available stats excluding the score of the game. The imports we used are as follows:"
   ]
  },
  {
   "cell_type": "code",
   "execution_count": 1,
   "metadata": {
    "id": "f77D1TVHFAOC",
    "slideshow": {
     "slide_type": "slide"
    }
   },
   "outputs": [],
   "source": [
    "import numpy as np\n",
    "import pandas as pd\n",
    "import matplotlib.pyplot as plt\n",
    "from sklearn.model_selection import train_test_split\n",
    "from sklearn.metrics import confusion_matrix, accuracy_score, roc_curve, roc_auc_score\n",
    "from sklearn.preprocessing import StandardScaler\n",
    "from sklearn.neighbors import KNeighborsClassifier\n",
    "from sklearn.linear_model import LogisticRegression\n",
    "import seaborn as sns\n",
    "from sklearn.svm import SVC\n",
    "from sklearn.decomposition import PCA\n",
    "from sklearn.metrics import classification_report\n",
    "from sklearn.model_selection import GridSearchCV"
   ]
  },
  {
   "cell_type": "markdown",
   "metadata": {},
   "source": [
    "Our Dataframe for the 2019 NFL regular season statistics for each team is listed below. This dataframe includes the stats, points scored, points allowed, 1st downs, total yards, pass yards, rush yards, etc. The dataframe is made up of these stats for every game that every team played in. All of the stats in the dataframe were acquired from the website, https://www.pro-football-reference.com/years/2019/"
   ]
  },
  {
   "cell_type": "code",
   "execution_count": 2,
   "metadata": {
    "colab": {
     "base_uri": "https://localhost:8080/",
     "height": 73,
     "resources": {
      "http://localhost:8080/nbextensions/google.colab/files.js": {
       "data": "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",
       "headers": [
        [
         "content-type",
         "application/javascript"
        ]
       ],
       "ok": true,
       "status": 200,
       "status_text": ""
      }
     }
    },
    "id": "PRrvq9wRMSyz",
    "outputId": "dd5a9890-8b53-44a4-a027-5b6963b0ede0",
    "slideshow": {
     "slide_type": "slide"
    }
   },
   "outputs": [],
   "source": [
    "df = pd.read_csv('Project_Data-2019.csv')"
   ]
  },
  {
   "cell_type": "code",
   "execution_count": 3,
   "metadata": {
    "colab": {
     "base_uri": "https://localhost:8080/",
     "height": 728
    },
    "id": "0_dO9yvCMgsj",
    "outputId": "ca8bd960-a00d-4686-a236-ebaae965433e",
    "slideshow": {
     "slide_type": "slide"
    }
   },
   "outputs": [
    {
     "data": {
      "text/html": [
       "<div>\n",
       "<style scoped>\n",
       "    .dataframe tbody tr th:only-of-type {\n",
       "        vertical-align: middle;\n",
       "    }\n",
       "\n",
       "    .dataframe tbody tr th {\n",
       "        vertical-align: top;\n",
       "    }\n",
       "\n",
       "    .dataframe thead th {\n",
       "        text-align: right;\n",
       "    }\n",
       "</style>\n",
       "<table border=\"1\" class=\"dataframe\">\n",
       "  <thead>\n",
       "    <tr style=\"text-align: right;\">\n",
       "      <th></th>\n",
       "      <th>Team</th>\n",
       "      <th>Week</th>\n",
       "      <th>Result</th>\n",
       "      <th>OT</th>\n",
       "      <th>Loc</th>\n",
       "      <th>Opp</th>\n",
       "      <th>Tm</th>\n",
       "      <th>Opp.1</th>\n",
       "      <th>1stD</th>\n",
       "      <th>TotYd</th>\n",
       "      <th>...</th>\n",
       "      <th>RushY</th>\n",
       "      <th>TO</th>\n",
       "      <th>1stD.1</th>\n",
       "      <th>TotYd.1</th>\n",
       "      <th>PassY.1</th>\n",
       "      <th>RushY.1</th>\n",
       "      <th>TO.1</th>\n",
       "      <th>Offense</th>\n",
       "      <th>Defense</th>\n",
       "      <th>Sp. Tms</th>\n",
       "    </tr>\n",
       "  </thead>\n",
       "  <tbody>\n",
       "    <tr>\n",
       "      <td>0</td>\n",
       "      <td>New England Patriots</td>\n",
       "      <td>1</td>\n",
       "      <td>W</td>\n",
       "      <td>NaN</td>\n",
       "      <td>NaN</td>\n",
       "      <td>Pittsburgh Steelers</td>\n",
       "      <td>33</td>\n",
       "      <td>3</td>\n",
       "      <td>24</td>\n",
       "      <td>465</td>\n",
       "      <td>...</td>\n",
       "      <td>99</td>\n",
       "      <td>NaN</td>\n",
       "      <td>15</td>\n",
       "      <td>308</td>\n",
       "      <td>276</td>\n",
       "      <td>32</td>\n",
       "      <td>1.0</td>\n",
       "      <td>18.24</td>\n",
       "      <td>9.50</td>\n",
       "      <td>-0.80</td>\n",
       "    </tr>\n",
       "    <tr>\n",
       "      <td>1</td>\n",
       "      <td>New England Patriots</td>\n",
       "      <td>2</td>\n",
       "      <td>W</td>\n",
       "      <td>NaN</td>\n",
       "      <td>@</td>\n",
       "      <td>Miami Dolphins</td>\n",
       "      <td>43</td>\n",
       "      <td>0</td>\n",
       "      <td>27</td>\n",
       "      <td>379</td>\n",
       "      <td>...</td>\n",
       "      <td>124</td>\n",
       "      <td>1.0</td>\n",
       "      <td>11</td>\n",
       "      <td>184</td>\n",
       "      <td>142</td>\n",
       "      <td>42</td>\n",
       "      <td>4.0</td>\n",
       "      <td>14.12</td>\n",
       "      <td>35.44</td>\n",
       "      <td>-12.05</td>\n",
       "    </tr>\n",
       "    <tr>\n",
       "      <td>2</td>\n",
       "      <td>New England Patriots</td>\n",
       "      <td>3</td>\n",
       "      <td>W</td>\n",
       "      <td>NaN</td>\n",
       "      <td>NaN</td>\n",
       "      <td>New York Jets</td>\n",
       "      <td>30</td>\n",
       "      <td>14</td>\n",
       "      <td>21</td>\n",
       "      <td>381</td>\n",
       "      <td>...</td>\n",
       "      <td>68</td>\n",
       "      <td>2.0</td>\n",
       "      <td>6</td>\n",
       "      <td>105</td>\n",
       "      <td>69</td>\n",
       "      <td>36</td>\n",
       "      <td>1.0</td>\n",
       "      <td>1.65</td>\n",
       "      <td>26.43</td>\n",
       "      <td>-9.81</td>\n",
       "    </tr>\n",
       "    <tr>\n",
       "      <td>3</td>\n",
       "      <td>New England Patriots</td>\n",
       "      <td>4</td>\n",
       "      <td>W</td>\n",
       "      <td>NaN</td>\n",
       "      <td>@</td>\n",
       "      <td>Buffalo Bills</td>\n",
       "      <td>16</td>\n",
       "      <td>10</td>\n",
       "      <td>11</td>\n",
       "      <td>224</td>\n",
       "      <td>...</td>\n",
       "      <td>74</td>\n",
       "      <td>1.0</td>\n",
       "      <td>23</td>\n",
       "      <td>375</td>\n",
       "      <td>240</td>\n",
       "      <td>135</td>\n",
       "      <td>4.0</td>\n",
       "      <td>-14.59</td>\n",
       "      <td>12.71</td>\n",
       "      <td>6.09</td>\n",
       "    </tr>\n",
       "    <tr>\n",
       "      <td>4</td>\n",
       "      <td>New England Patriots</td>\n",
       "      <td>5</td>\n",
       "      <td>W</td>\n",
       "      <td>NaN</td>\n",
       "      <td>@</td>\n",
       "      <td>Washington Redskins</td>\n",
       "      <td>33</td>\n",
       "      <td>7</td>\n",
       "      <td>23</td>\n",
       "      <td>442</td>\n",
       "      <td>...</td>\n",
       "      <td>130</td>\n",
       "      <td>1.0</td>\n",
       "      <td>11</td>\n",
       "      <td>223</td>\n",
       "      <td>78</td>\n",
       "      <td>145</td>\n",
       "      <td>2.0</td>\n",
       "      <td>9.23</td>\n",
       "      <td>20.78</td>\n",
       "      <td>-6.54</td>\n",
       "    </tr>\n",
       "  </tbody>\n",
       "</table>\n",
       "<p>5 rows × 21 columns</p>\n",
       "</div>"
      ],
      "text/plain": [
       "                   Team  Week Result   OT  Loc                  Opp  Tm  \\\n",
       "0  New England Patriots     1      W  NaN  NaN  Pittsburgh Steelers  33   \n",
       "1  New England Patriots     2      W  NaN    @       Miami Dolphins  43   \n",
       "2  New England Patriots     3      W  NaN  NaN        New York Jets  30   \n",
       "3  New England Patriots     4      W  NaN    @        Buffalo Bills  16   \n",
       "4  New England Patriots     5      W  NaN    @  Washington Redskins  33   \n",
       "\n",
       "   Opp.1  1stD  TotYd  ...  RushY   TO  1stD.1  TotYd.1  PassY.1  RushY.1  \\\n",
       "0      3    24    465  ...     99  NaN      15      308      276       32   \n",
       "1      0    27    379  ...    124  1.0      11      184      142       42   \n",
       "2     14    21    381  ...     68  2.0       6      105       69       36   \n",
       "3     10    11    224  ...     74  1.0      23      375      240      135   \n",
       "4      7    23    442  ...    130  1.0      11      223       78      145   \n",
       "\n",
       "   TO.1  Offense  Defense  Sp. Tms  \n",
       "0   1.0    18.24     9.50    -0.80  \n",
       "1   4.0    14.12    35.44   -12.05  \n",
       "2   1.0     1.65    26.43    -9.81  \n",
       "3   4.0   -14.59    12.71     6.09  \n",
       "4   2.0     9.23    20.78    -6.54  \n",
       "\n",
       "[5 rows x 21 columns]"
      ]
     },
     "execution_count": 3,
     "metadata": {},
     "output_type": "execute_result"
    }
   ],
   "source": [
    "df.head()"
   ]
  },
  {
   "cell_type": "markdown",
   "metadata": {},
   "source": [
    "Notice there are a lot of `NaN` values in our data. We didn't want to throw out all of those rows so instead we had to come up with values to give the `NaN` in specific columns, which we did below."
   ]
  },
  {
   "cell_type": "code",
   "execution_count": 4,
   "metadata": {
    "id": "tIHBaaOfN6uH",
    "slideshow": {
     "slide_type": "slide"
    }
   },
   "outputs": [
    {
     "data": {
      "text/html": [
       "<div>\n",
       "<style scoped>\n",
       "    .dataframe tbody tr th:only-of-type {\n",
       "        vertical-align: middle;\n",
       "    }\n",
       "\n",
       "    .dataframe tbody tr th {\n",
       "        vertical-align: top;\n",
       "    }\n",
       "\n",
       "    .dataframe thead th {\n",
       "        text-align: right;\n",
       "    }\n",
       "</style>\n",
       "<table border=\"1\" class=\"dataframe\">\n",
       "  <thead>\n",
       "    <tr style=\"text-align: right;\">\n",
       "      <th></th>\n",
       "      <th>Team</th>\n",
       "      <th>Week</th>\n",
       "      <th>Result</th>\n",
       "      <th>OT</th>\n",
       "      <th>Loc</th>\n",
       "      <th>Opp</th>\n",
       "      <th>Tm</th>\n",
       "      <th>Opp.1</th>\n",
       "      <th>1stD</th>\n",
       "      <th>TotYd</th>\n",
       "      <th>...</th>\n",
       "      <th>RushY</th>\n",
       "      <th>TO</th>\n",
       "      <th>1stD.1</th>\n",
       "      <th>TotYd.1</th>\n",
       "      <th>PassY.1</th>\n",
       "      <th>RushY.1</th>\n",
       "      <th>TO.1</th>\n",
       "      <th>Offense</th>\n",
       "      <th>Defense</th>\n",
       "      <th>Sp. Tms</th>\n",
       "    </tr>\n",
       "  </thead>\n",
       "  <tbody>\n",
       "    <tr>\n",
       "      <td>0</td>\n",
       "      <td>New England Patriots</td>\n",
       "      <td>1</td>\n",
       "      <td>W</td>\n",
       "      <td>None</td>\n",
       "      <td>Home</td>\n",
       "      <td>Pittsburgh Steelers</td>\n",
       "      <td>33</td>\n",
       "      <td>3</td>\n",
       "      <td>24</td>\n",
       "      <td>465</td>\n",
       "      <td>...</td>\n",
       "      <td>99</td>\n",
       "      <td>0.0</td>\n",
       "      <td>15</td>\n",
       "      <td>308</td>\n",
       "      <td>276</td>\n",
       "      <td>32</td>\n",
       "      <td>1.0</td>\n",
       "      <td>18.24</td>\n",
       "      <td>9.50</td>\n",
       "      <td>-0.80</td>\n",
       "    </tr>\n",
       "    <tr>\n",
       "      <td>1</td>\n",
       "      <td>New England Patriots</td>\n",
       "      <td>2</td>\n",
       "      <td>W</td>\n",
       "      <td>None</td>\n",
       "      <td>Away</td>\n",
       "      <td>Miami Dolphins</td>\n",
       "      <td>43</td>\n",
       "      <td>0</td>\n",
       "      <td>27</td>\n",
       "      <td>379</td>\n",
       "      <td>...</td>\n",
       "      <td>124</td>\n",
       "      <td>1.0</td>\n",
       "      <td>11</td>\n",
       "      <td>184</td>\n",
       "      <td>142</td>\n",
       "      <td>42</td>\n",
       "      <td>4.0</td>\n",
       "      <td>14.12</td>\n",
       "      <td>35.44</td>\n",
       "      <td>-12.05</td>\n",
       "    </tr>\n",
       "    <tr>\n",
       "      <td>2</td>\n",
       "      <td>New England Patriots</td>\n",
       "      <td>3</td>\n",
       "      <td>W</td>\n",
       "      <td>None</td>\n",
       "      <td>Home</td>\n",
       "      <td>New York Jets</td>\n",
       "      <td>30</td>\n",
       "      <td>14</td>\n",
       "      <td>21</td>\n",
       "      <td>381</td>\n",
       "      <td>...</td>\n",
       "      <td>68</td>\n",
       "      <td>2.0</td>\n",
       "      <td>6</td>\n",
       "      <td>105</td>\n",
       "      <td>69</td>\n",
       "      <td>36</td>\n",
       "      <td>1.0</td>\n",
       "      <td>1.65</td>\n",
       "      <td>26.43</td>\n",
       "      <td>-9.81</td>\n",
       "    </tr>\n",
       "    <tr>\n",
       "      <td>3</td>\n",
       "      <td>New England Patriots</td>\n",
       "      <td>4</td>\n",
       "      <td>W</td>\n",
       "      <td>None</td>\n",
       "      <td>Away</td>\n",
       "      <td>Buffalo Bills</td>\n",
       "      <td>16</td>\n",
       "      <td>10</td>\n",
       "      <td>11</td>\n",
       "      <td>224</td>\n",
       "      <td>...</td>\n",
       "      <td>74</td>\n",
       "      <td>1.0</td>\n",
       "      <td>23</td>\n",
       "      <td>375</td>\n",
       "      <td>240</td>\n",
       "      <td>135</td>\n",
       "      <td>4.0</td>\n",
       "      <td>-14.59</td>\n",
       "      <td>12.71</td>\n",
       "      <td>6.09</td>\n",
       "    </tr>\n",
       "    <tr>\n",
       "      <td>4</td>\n",
       "      <td>New England Patriots</td>\n",
       "      <td>5</td>\n",
       "      <td>W</td>\n",
       "      <td>None</td>\n",
       "      <td>Away</td>\n",
       "      <td>Washington Redskins</td>\n",
       "      <td>33</td>\n",
       "      <td>7</td>\n",
       "      <td>23</td>\n",
       "      <td>442</td>\n",
       "      <td>...</td>\n",
       "      <td>130</td>\n",
       "      <td>1.0</td>\n",
       "      <td>11</td>\n",
       "      <td>223</td>\n",
       "      <td>78</td>\n",
       "      <td>145</td>\n",
       "      <td>2.0</td>\n",
       "      <td>9.23</td>\n",
       "      <td>20.78</td>\n",
       "      <td>-6.54</td>\n",
       "    </tr>\n",
       "  </tbody>\n",
       "</table>\n",
       "<p>5 rows × 21 columns</p>\n",
       "</div>"
      ],
      "text/plain": [
       "                   Team  Week Result    OT   Loc                  Opp  Tm  \\\n",
       "0  New England Patriots     1      W  None  Home  Pittsburgh Steelers  33   \n",
       "1  New England Patriots     2      W  None  Away       Miami Dolphins  43   \n",
       "2  New England Patriots     3      W  None  Home        New York Jets  30   \n",
       "3  New England Patriots     4      W  None  Away        Buffalo Bills  16   \n",
       "4  New England Patriots     5      W  None  Away  Washington Redskins  33   \n",
       "\n",
       "   Opp.1  1stD  TotYd  ...  RushY   TO  1stD.1  TotYd.1  PassY.1  RushY.1  \\\n",
       "0      3    24    465  ...     99  0.0      15      308      276       32   \n",
       "1      0    27    379  ...    124  1.0      11      184      142       42   \n",
       "2     14    21    381  ...     68  2.0       6      105       69       36   \n",
       "3     10    11    224  ...     74  1.0      23      375      240      135   \n",
       "4      7    23    442  ...    130  1.0      11      223       78      145   \n",
       "\n",
       "   TO.1  Offense  Defense  Sp. Tms  \n",
       "0   1.0    18.24     9.50    -0.80  \n",
       "1   4.0    14.12    35.44   -12.05  \n",
       "2   1.0     1.65    26.43    -9.81  \n",
       "3   4.0   -14.59    12.71     6.09  \n",
       "4   2.0     9.23    20.78    -6.54  \n",
       "\n",
       "[5 rows x 21 columns]"
      ]
     },
     "execution_count": 4,
     "metadata": {},
     "output_type": "execute_result"
    }
   ],
   "source": [
    "# Replacing the NaN values\n",
    "df['OT'] = df['OT'].replace(np.nan, 'None')\n",
    "df['Loc'] = df['Loc'].replace(np.nan, 'Home')\n",
    "df['Loc'] = df['Loc'].replace('@', 'Away')\n",
    "df['TO'] = df['TO'].replace(np.nan, 0)\n",
    "df['TO.1'] = df['TO.1'].replace(np.nan, 0)\n",
    "df.head()"
   ]
  },
  {
   "cell_type": "markdown",
   "metadata": {},
   "source": [
    "We replaced all of our `NaN` values in the OT column with the phrase, 'None' since if there was an `NaN` value in that column it meant that no overtime took place in that game. We had to replace the `NaN` in the Loc column with 'Home' since only away games were indicated. We also had to replace the `NaN` values in the TO and TO.1 columns to 0 since those meant that no team had any turnovers."
   ]
  },
  {
   "cell_type": "code",
   "execution_count": 5,
   "metadata": {
    "slideshow": {
     "slide_type": "slide"
    }
   },
   "outputs": [
    {
     "name": "stderr",
     "output_type": "stream",
     "text": [
      "/opt/anaconda3/lib/python3.7/site-packages/pandas/core/indexing.py:205: SettingWithCopyWarning: \n",
      "A value is trying to be set on a copy of a slice from a DataFrame\n",
      "\n",
      "See the caveats in the documentation: http://pandas.pydata.org/pandas-docs/stable/user_guide/indexing.html#returning-a-view-versus-a-copy\n",
      "  self._setitem_with_indexer(indexer, value)\n"
     ]
    },
    {
     "data": {
      "text/html": [
       "<div>\n",
       "<style scoped>\n",
       "    .dataframe tbody tr th:only-of-type {\n",
       "        vertical-align: middle;\n",
       "    }\n",
       "\n",
       "    .dataframe tbody tr th {\n",
       "        vertical-align: top;\n",
       "    }\n",
       "\n",
       "    .dataframe thead th {\n",
       "        text-align: right;\n",
       "    }\n",
       "</style>\n",
       "<table border=\"1\" class=\"dataframe\">\n",
       "  <thead>\n",
       "    <tr style=\"text-align: right;\">\n",
       "      <th></th>\n",
       "      <th>Team</th>\n",
       "      <th>Week</th>\n",
       "      <th>Result</th>\n",
       "      <th>OT</th>\n",
       "      <th>Loc</th>\n",
       "      <th>Opp</th>\n",
       "      <th>Tm</th>\n",
       "      <th>Opp.1</th>\n",
       "      <th>1stD</th>\n",
       "      <th>TotYd</th>\n",
       "      <th>...</th>\n",
       "      <th>RushY</th>\n",
       "      <th>TO</th>\n",
       "      <th>1stD.1</th>\n",
       "      <th>TotYd.1</th>\n",
       "      <th>PassY.1</th>\n",
       "      <th>RushY.1</th>\n",
       "      <th>TO.1</th>\n",
       "      <th>Offense</th>\n",
       "      <th>Defense</th>\n",
       "      <th>Sp. Tms</th>\n",
       "    </tr>\n",
       "  </thead>\n",
       "  <tbody>\n",
       "    <tr>\n",
       "      <td>0</td>\n",
       "      <td>New England Patriots</td>\n",
       "      <td>1</td>\n",
       "      <td>1</td>\n",
       "      <td>None</td>\n",
       "      <td>Home</td>\n",
       "      <td>Pittsburgh Steelers</td>\n",
       "      <td>33</td>\n",
       "      <td>3</td>\n",
       "      <td>24</td>\n",
       "      <td>465</td>\n",
       "      <td>...</td>\n",
       "      <td>99</td>\n",
       "      <td>0.0</td>\n",
       "      <td>15</td>\n",
       "      <td>308</td>\n",
       "      <td>276</td>\n",
       "      <td>32</td>\n",
       "      <td>1.0</td>\n",
       "      <td>18.24</td>\n",
       "      <td>9.50</td>\n",
       "      <td>-0.80</td>\n",
       "    </tr>\n",
       "    <tr>\n",
       "      <td>1</td>\n",
       "      <td>New England Patriots</td>\n",
       "      <td>2</td>\n",
       "      <td>1</td>\n",
       "      <td>None</td>\n",
       "      <td>Away</td>\n",
       "      <td>Miami Dolphins</td>\n",
       "      <td>43</td>\n",
       "      <td>0</td>\n",
       "      <td>27</td>\n",
       "      <td>379</td>\n",
       "      <td>...</td>\n",
       "      <td>124</td>\n",
       "      <td>1.0</td>\n",
       "      <td>11</td>\n",
       "      <td>184</td>\n",
       "      <td>142</td>\n",
       "      <td>42</td>\n",
       "      <td>4.0</td>\n",
       "      <td>14.12</td>\n",
       "      <td>35.44</td>\n",
       "      <td>-12.05</td>\n",
       "    </tr>\n",
       "    <tr>\n",
       "      <td>2</td>\n",
       "      <td>New England Patriots</td>\n",
       "      <td>3</td>\n",
       "      <td>1</td>\n",
       "      <td>None</td>\n",
       "      <td>Home</td>\n",
       "      <td>New York Jets</td>\n",
       "      <td>30</td>\n",
       "      <td>14</td>\n",
       "      <td>21</td>\n",
       "      <td>381</td>\n",
       "      <td>...</td>\n",
       "      <td>68</td>\n",
       "      <td>2.0</td>\n",
       "      <td>6</td>\n",
       "      <td>105</td>\n",
       "      <td>69</td>\n",
       "      <td>36</td>\n",
       "      <td>1.0</td>\n",
       "      <td>1.65</td>\n",
       "      <td>26.43</td>\n",
       "      <td>-9.81</td>\n",
       "    </tr>\n",
       "    <tr>\n",
       "      <td>3</td>\n",
       "      <td>New England Patriots</td>\n",
       "      <td>4</td>\n",
       "      <td>1</td>\n",
       "      <td>None</td>\n",
       "      <td>Away</td>\n",
       "      <td>Buffalo Bills</td>\n",
       "      <td>16</td>\n",
       "      <td>10</td>\n",
       "      <td>11</td>\n",
       "      <td>224</td>\n",
       "      <td>...</td>\n",
       "      <td>74</td>\n",
       "      <td>1.0</td>\n",
       "      <td>23</td>\n",
       "      <td>375</td>\n",
       "      <td>240</td>\n",
       "      <td>135</td>\n",
       "      <td>4.0</td>\n",
       "      <td>-14.59</td>\n",
       "      <td>12.71</td>\n",
       "      <td>6.09</td>\n",
       "    </tr>\n",
       "    <tr>\n",
       "      <td>4</td>\n",
       "      <td>New England Patriots</td>\n",
       "      <td>5</td>\n",
       "      <td>1</td>\n",
       "      <td>None</td>\n",
       "      <td>Away</td>\n",
       "      <td>Washington Redskins</td>\n",
       "      <td>33</td>\n",
       "      <td>7</td>\n",
       "      <td>23</td>\n",
       "      <td>442</td>\n",
       "      <td>...</td>\n",
       "      <td>130</td>\n",
       "      <td>1.0</td>\n",
       "      <td>11</td>\n",
       "      <td>223</td>\n",
       "      <td>78</td>\n",
       "      <td>145</td>\n",
       "      <td>2.0</td>\n",
       "      <td>9.23</td>\n",
       "      <td>20.78</td>\n",
       "      <td>-6.54</td>\n",
       "    </tr>\n",
       "  </tbody>\n",
       "</table>\n",
       "<p>5 rows × 21 columns</p>\n",
       "</div>"
      ],
      "text/plain": [
       "                   Team  Week  Result    OT   Loc                  Opp  Tm  \\\n",
       "0  New England Patriots     1       1  None  Home  Pittsburgh Steelers  33   \n",
       "1  New England Patriots     2       1  None  Away       Miami Dolphins  43   \n",
       "2  New England Patriots     3       1  None  Home        New York Jets  30   \n",
       "3  New England Patriots     4       1  None  Away        Buffalo Bills  16   \n",
       "4  New England Patriots     5       1  None  Away  Washington Redskins  33   \n",
       "\n",
       "   Opp.1  1stD  TotYd  ...  RushY   TO  1stD.1  TotYd.1  PassY.1  RushY.1  \\\n",
       "0      3    24    465  ...     99  0.0      15      308      276       32   \n",
       "1      0    27    379  ...    124  1.0      11      184      142       42   \n",
       "2     14    21    381  ...     68  2.0       6      105       69       36   \n",
       "3     10    11    224  ...     74  1.0      23      375      240      135   \n",
       "4      7    23    442  ...    130  1.0      11      223       78      145   \n",
       "\n",
       "   TO.1  Offense  Defense  Sp. Tms  \n",
       "0   1.0    18.24     9.50    -0.80  \n",
       "1   4.0    14.12    35.44   -12.05  \n",
       "2   1.0     1.65    26.43    -9.81  \n",
       "3   4.0   -14.59    12.71     6.09  \n",
       "4   2.0     9.23    20.78    -6.54  \n",
       "\n",
       "[5 rows x 21 columns]"
      ]
     },
     "execution_count": 5,
     "metadata": {},
     "output_type": "execute_result"
    }
   ],
   "source": [
    "# Standardizing the Wins and Losses to 1's and 0's\n",
    "for i in range(len(df['Result'])):\n",
    "    if df['Result'].iloc[i] == 'W':\n",
    "        df['Result'].iloc[i] = 1\n",
    "    if df['Result'].iloc[i] == 'L':\n",
    "        df['Result'].iloc[i] = 0\n",
    "    if df['Result'].iloc[i] == 'T':\n",
    "        df['Result'].iloc[i] = 0\n",
    "df.head()"
   ]
  },
  {
   "cell_type": "markdown",
   "metadata": {},
   "source": [
    "Our classifier in this project was Wins and Losses, and in order to perform a regression we had to standardize our classifier. To do this, we set a W, which denotes a win, equal to 1 and L, which denotes a loss, to a 0. As usual, the Detroit Lions wanted to make things difficult for us because that is just what they do best and decided they were going to be the only team in the league to tie one of their games. So we had to standardize a tie as well. We settled on classifying a tie with a 0 as well. So in the end our 1's denote a 'win' and our 0's denote 'not a win'"
   ]
  },
  {
   "cell_type": "code",
   "execution_count": 6,
   "metadata": {
    "slideshow": {
     "slide_type": "slide"
    }
   },
   "outputs": [
    {
     "data": {
      "text/plain": [
       "Text(0.5, 1, '2019 Correlation')"
      ]
     },
     "execution_count": 6,
     "metadata": {},
     "output_type": "execute_result"
    },
    {
     "data": {
      "image/png": "[encoded data removed]",
      "text/plain": [
       "<Figure size 432x288 with 2 Axes>"
      ]
     },
     "metadata": {
      "needs_background": "light"
     },
     "output_type": "display_data"
    }
   ],
   "source": [
    "# Correlation Heatmap\n",
    "corr = df.drop(['Team', 'Week', 'OT', 'Loc', 'Opp', 'Tm', 'Opp.1'], axis=1).corr()\n",
    "plt.figure(1)\n",
    "sns.heatmap(corr, cmap = 'jet')\n",
    "plt.ylim(0, 20)\n",
    "plt.xlim(0, None)\n",
    "plt.title('2019 Correlation')"
   ]
  },
  {
   "cell_type": "markdown",
   "metadata": {},
   "source": [
    "Here we made a correlation matrix to visualize which stats were most correlated to wins and losses. Unsurprisingly, high standardized offensive and defensive scores are strongly positively correlated to winning. What is somewhat interesting is that rushing yards is more correlated to winning than passing yards, even as the league continues to trend towards more pass oriented offenses."
   ]
  },
  {
   "cell_type": "code",
   "execution_count": 7,
   "metadata": {
    "scrolled": false,
    "slideshow": {
     "slide_type": "slide"
    }
   },
   "outputs": [
    {
     "data": {
      "text/html": [
       "<div>\n",
       "<style scoped>\n",
       "    .dataframe tbody tr th:only-of-type {\n",
       "        vertical-align: middle;\n",
       "    }\n",
       "\n",
       "    .dataframe tbody tr th {\n",
       "        vertical-align: top;\n",
       "    }\n",
       "\n",
       "    .dataframe thead th {\n",
       "        text-align: right;\n",
       "    }\n",
       "</style>\n",
       "<table border=\"1\" class=\"dataframe\">\n",
       "  <thead>\n",
       "    <tr style=\"text-align: right;\">\n",
       "      <th></th>\n",
       "      <th>Tm</th>\n",
       "      <th>Opp.1</th>\n",
       "      <th>1stD</th>\n",
       "      <th>TotYd</th>\n",
       "      <th>PassY</th>\n",
       "      <th>RushY</th>\n",
       "      <th>TO</th>\n",
       "      <th>1stD.1</th>\n",
       "      <th>TotYd.1</th>\n",
       "      <th>PassY.1</th>\n",
       "      <th>RushY.1</th>\n",
       "      <th>TO.1</th>\n",
       "      <th>Offense</th>\n",
       "      <th>Defense</th>\n",
       "      <th>Sp. Tms</th>\n",
       "    </tr>\n",
       "  </thead>\n",
       "  <tbody>\n",
       "    <tr>\n",
       "      <td>0</td>\n",
       "      <td>1.004052</td>\n",
       "      <td>-1.952665</td>\n",
       "      <td>0.753728</td>\n",
       "      <td>1.324419</td>\n",
       "      <td>1.656047</td>\n",
       "      <td>-0.264221</td>\n",
       "      <td>-1.089590</td>\n",
       "      <td>-1.056162</td>\n",
       "      <td>-0.450748</td>\n",
       "      <td>0.518627</td>\n",
       "      <td>-1.537591</td>\n",
       "      <td>-0.304963</td>\n",
       "      <td>1.210645</td>\n",
       "      <td>0.987012</td>\n",
       "      <td>-0.156871</td>\n",
       "    </tr>\n",
       "    <tr>\n",
       "      <td>1</td>\n",
       "      <td>1.989624</td>\n",
       "      <td>-2.248337</td>\n",
       "      <td>1.357024</td>\n",
       "      <td>0.352034</td>\n",
       "      <td>0.253229</td>\n",
       "      <td>0.210917</td>\n",
       "      <td>-0.304963</td>\n",
       "      <td>-1.860557</td>\n",
       "      <td>-1.852791</td>\n",
       "      <td>-1.174865</td>\n",
       "      <td>-1.347536</td>\n",
       "      <td>2.048920</td>\n",
       "      <td>0.884244</td>\n",
       "      <td>3.042066</td>\n",
       "      <td>-2.362864</td>\n",
       "    </tr>\n",
       "    <tr>\n",
       "      <td>2</td>\n",
       "      <td>0.708380</td>\n",
       "      <td>-0.868536</td>\n",
       "      <td>0.150431</td>\n",
       "      <td>0.374648</td>\n",
       "      <td>0.986233</td>\n",
       "      <td>-0.853392</td>\n",
       "      <td>0.479665</td>\n",
       "      <td>-2.866051</td>\n",
       "      <td>-2.746028</td>\n",
       "      <td>-2.097439</td>\n",
       "      <td>-1.461569</td>\n",
       "      <td>-0.304963</td>\n",
       "      <td>-0.103671</td>\n",
       "      <td>2.328264</td>\n",
       "      <td>-1.923627</td>\n",
       "    </tr>\n",
       "    <tr>\n",
       "      <td>3</td>\n",
       "      <td>-0.671421</td>\n",
       "      <td>-1.262764</td>\n",
       "      <td>-1.860557</td>\n",
       "      <td>-1.400519</td>\n",
       "      <td>-1.073761</td>\n",
       "      <td>-0.739359</td>\n",
       "      <td>-0.304963</td>\n",
       "      <td>0.552629</td>\n",
       "      <td>0.306807</td>\n",
       "      <td>0.063659</td>\n",
       "      <td>0.419977</td>\n",
       "      <td>2.048920</td>\n",
       "      <td>-1.390259</td>\n",
       "      <td>1.241319</td>\n",
       "      <td>1.194178</td>\n",
       "    </tr>\n",
       "    <tr>\n",
       "      <td>4</td>\n",
       "      <td>1.004052</td>\n",
       "      <td>-1.558436</td>\n",
       "      <td>0.552629</td>\n",
       "      <td>1.064363</td>\n",
       "      <td>0.973595</td>\n",
       "      <td>0.324950</td>\n",
       "      <td>-0.304963</td>\n",
       "      <td>-1.860557</td>\n",
       "      <td>-1.411826</td>\n",
       "      <td>-1.983697</td>\n",
       "      <td>0.610033</td>\n",
       "      <td>0.479665</td>\n",
       "      <td>0.496842</td>\n",
       "      <td>1.880651</td>\n",
       "      <td>-1.282418</td>\n",
       "    </tr>\n",
       "  </tbody>\n",
       "</table>\n",
       "</div>"
      ],
      "text/plain": [
       "         Tm     Opp.1      1stD     TotYd     PassY     RushY        TO  \\\n",
       "0  1.004052 -1.952665  0.753728  1.324419  1.656047 -0.264221 -1.089590   \n",
       "1  1.989624 -2.248337  1.357024  0.352034  0.253229  0.210917 -0.304963   \n",
       "2  0.708380 -0.868536  0.150431  0.374648  0.986233 -0.853392  0.479665   \n",
       "3 -0.671421 -1.262764 -1.860557 -1.400519 -1.073761 -0.739359 -0.304963   \n",
       "4  1.004052 -1.558436  0.552629  1.064363  0.973595  0.324950 -0.304963   \n",
       "\n",
       "     1stD.1   TotYd.1   PassY.1   RushY.1      TO.1   Offense   Defense  \\\n",
       "0 -1.056162 -0.450748  0.518627 -1.537591 -0.304963  1.210645  0.987012   \n",
       "1 -1.860557 -1.852791 -1.174865 -1.347536  2.048920  0.884244  3.042066   \n",
       "2 -2.866051 -2.746028 -2.097439 -1.461569 -0.304963 -0.103671  2.328264   \n",
       "3  0.552629  0.306807  0.063659  0.419977  2.048920 -1.390259  1.241319   \n",
       "4 -1.860557 -1.411826 -1.983697  0.610033  0.479665  0.496842  1.880651   \n",
       "\n",
       "    Sp. Tms  \n",
       "0 -0.156871  \n",
       "1 -2.362864  \n",
       "2 -1.923627  \n",
       "3  1.194178  \n",
       "4 -1.282418  "
      ]
     },
     "execution_count": 7,
     "metadata": {},
     "output_type": "execute_result"
    }
   ],
   "source": [
    "scaler = StandardScaler()\n",
    "scaled_df = scaler.fit_transform(df.iloc[:,6:])\n",
    "standard_df = pd.DataFrame(scaled_df, columns = ['Tm', 'Opp.1', '1stD', 'TotYd', 'PassY', 'RushY', 'TO', \n",
    "                                                '1stD.1', 'TotYd.1', 'PassY.1', 'RushY.1', 'TO.1', 'Offense',\n",
    "                                                'Defense', 'Sp. Tms'])\n",
    "standard_df.head()"
   ]
  },
  {
   "cell_type": "markdown",
   "metadata": {},
   "source": [
    "Here we went ahead and standardized all of our features (stats) so we can perform tests with it later."
   ]
  },
  {
   "cell_type": "code",
   "execution_count": 8,
   "metadata": {
    "slideshow": {
     "slide_type": "slide"
    }
   },
   "outputs": [],
   "source": [
    "x_train, x_test, y_train, y_test = train_test_split(standard_df, df['Result'], test_size = 0.25)"
   ]
  },
  {
   "cell_type": "code",
   "execution_count": 9,
   "metadata": {
    "scrolled": true,
    "slideshow": {
     "slide_type": "slide"
    }
   },
   "outputs": [
    {
     "name": "stdout",
     "output_type": "stream",
     "text": [
      "[1 1 1 0 0 1 1 1 0 0 0 0 1 1 0 1 0 0 0 1 1 1 0 0 1 1 1 0 1 0 1 1 1 1 1 0 0\n",
      " 0 1 1 1 1 1 1 0 0 1 1 0 0 0 1 1 0 0 1 1 0 0 1 0 1 0 1 0 1 0 1 1 1 0 1 0 0\n",
      " 0 0 0 0 0 0 0 1 0 0 1 0 0 1 1 1 1 1 1 1 1 1 0 1 1 0 1 0 0 0 0 0 0 1 1 0 1\n",
      " 0 0 0 0 0 0 0 0 0 0 0 1 1 0 0 0 1]\n"
     ]
    },
    {
     "name": "stderr",
     "output_type": "stream",
     "text": [
      "/opt/anaconda3/lib/python3.7/site-packages/sklearn/linear_model/logistic.py:432: FutureWarning: Default solver will be changed to 'lbfgs' in 0.22. Specify a solver to silence this warning.\n",
      "  FutureWarning)\n"
     ]
    }
   ],
   "source": [
    "clf = LogisticRegression().fit(x_train, y_train)\n",
    "predict = clf.predict(x_test)\n",
    "print(predict)"
   ]
  },
  {
   "cell_type": "code",
   "execution_count": 10,
   "metadata": {
    "scrolled": true,
    "slideshow": {
     "slide_type": "slide"
    }
   },
   "outputs": [
    {
     "name": "stdout",
     "output_type": "stream",
     "text": [
      "0.9921875\n"
     ]
    }
   ],
   "source": [
    "print(accuracy_score(y_test, predict))"
   ]
  },
  {
   "cell_type": "markdown",
   "metadata": {},
   "source": [
    "Here we split our data, built the regression model and tested it. We got a very high accuracy score but our data included the score of each game which pretty much defeats the purpose of what we are trying to do. So we performed the same test again without the scores, in the cells below."
   ]
  },
  {
   "cell_type": "code",
   "execution_count": 11,
   "metadata": {
    "slideshow": {
     "slide_type": "slide"
    }
   },
   "outputs": [],
   "source": [
    "new_x_train, new_x_test, new_y_train, new_y_test = train_test_split(standard_df.iloc[:,2:], df['Result'], test_size = 0.25)"
   ]
  },
  {
   "cell_type": "code",
   "execution_count": 12,
   "metadata": {},
   "outputs": [
    {
     "data": {
      "text/html": [
       "<div>\n",
       "<style scoped>\n",
       "    .dataframe tbody tr th:only-of-type {\n",
       "        vertical-align: middle;\n",
       "    }\n",
       "\n",
       "    .dataframe tbody tr th {\n",
       "        vertical-align: top;\n",
       "    }\n",
       "\n",
       "    .dataframe thead th {\n",
       "        text-align: right;\n",
       "    }\n",
       "</style>\n",
       "<table border=\"1\" class=\"dataframe\">\n",
       "  <thead>\n",
       "    <tr style=\"text-align: right;\">\n",
       "      <th></th>\n",
       "      <th>1stD</th>\n",
       "      <th>TotYd</th>\n",
       "      <th>PassY</th>\n",
       "      <th>RushY</th>\n",
       "      <th>TO</th>\n",
       "      <th>1stD.1</th>\n",
       "      <th>TotYd.1</th>\n",
       "      <th>PassY.1</th>\n",
       "      <th>RushY.1</th>\n",
       "      <th>TO.1</th>\n",
       "      <th>Offense</th>\n",
       "      <th>Defense</th>\n",
       "      <th>Sp. Tms</th>\n",
       "    </tr>\n",
       "  </thead>\n",
       "  <tbody>\n",
       "    <tr>\n",
       "      <td>0</td>\n",
       "      <td>0.753728</td>\n",
       "      <td>1.324419</td>\n",
       "      <td>1.656047</td>\n",
       "      <td>-0.264221</td>\n",
       "      <td>-1.089590</td>\n",
       "      <td>-1.056162</td>\n",
       "      <td>-0.450748</td>\n",
       "      <td>0.518627</td>\n",
       "      <td>-1.537591</td>\n",
       "      <td>-0.304963</td>\n",
       "      <td>1.210645</td>\n",
       "      <td>0.987012</td>\n",
       "      <td>-0.156871</td>\n",
       "    </tr>\n",
       "    <tr>\n",
       "      <td>1</td>\n",
       "      <td>1.357024</td>\n",
       "      <td>0.352034</td>\n",
       "      <td>0.253229</td>\n",
       "      <td>0.210917</td>\n",
       "      <td>-0.304963</td>\n",
       "      <td>-1.860557</td>\n",
       "      <td>-1.852791</td>\n",
       "      <td>-1.174865</td>\n",
       "      <td>-1.347536</td>\n",
       "      <td>2.048920</td>\n",
       "      <td>0.884244</td>\n",
       "      <td>3.042066</td>\n",
       "      <td>-2.362864</td>\n",
       "    </tr>\n",
       "    <tr>\n",
       "      <td>2</td>\n",
       "      <td>0.150431</td>\n",
       "      <td>0.374648</td>\n",
       "      <td>0.986233</td>\n",
       "      <td>-0.853392</td>\n",
       "      <td>0.479665</td>\n",
       "      <td>-2.866051</td>\n",
       "      <td>-2.746028</td>\n",
       "      <td>-2.097439</td>\n",
       "      <td>-1.461569</td>\n",
       "      <td>-0.304963</td>\n",
       "      <td>-0.103671</td>\n",
       "      <td>2.328264</td>\n",
       "      <td>-1.923627</td>\n",
       "    </tr>\n",
       "    <tr>\n",
       "      <td>3</td>\n",
       "      <td>-1.860557</td>\n",
       "      <td>-1.400519</td>\n",
       "      <td>-1.073761</td>\n",
       "      <td>-0.739359</td>\n",
       "      <td>-0.304963</td>\n",
       "      <td>0.552629</td>\n",
       "      <td>0.306807</td>\n",
       "      <td>0.063659</td>\n",
       "      <td>0.419977</td>\n",
       "      <td>2.048920</td>\n",
       "      <td>-1.390259</td>\n",
       "      <td>1.241319</td>\n",
       "      <td>1.194178</td>\n",
       "    </tr>\n",
       "    <tr>\n",
       "      <td>4</td>\n",
       "      <td>0.552629</td>\n",
       "      <td>1.064363</td>\n",
       "      <td>0.973595</td>\n",
       "      <td>0.324950</td>\n",
       "      <td>-0.304963</td>\n",
       "      <td>-1.860557</td>\n",
       "      <td>-1.411826</td>\n",
       "      <td>-1.983697</td>\n",
       "      <td>0.610033</td>\n",
       "      <td>0.479665</td>\n",
       "      <td>0.496842</td>\n",
       "      <td>1.880651</td>\n",
       "      <td>-1.282418</td>\n",
       "    </tr>\n",
       "    <tr>\n",
       "      <td>...</td>\n",
       "      <td>...</td>\n",
       "      <td>...</td>\n",
       "      <td>...</td>\n",
       "      <td>...</td>\n",
       "      <td>...</td>\n",
       "      <td>...</td>\n",
       "      <td>...</td>\n",
       "      <td>...</td>\n",
       "      <td>...</td>\n",
       "      <td>...</td>\n",
       "      <td>...</td>\n",
       "      <td>...</td>\n",
       "      <td>...</td>\n",
       "    </tr>\n",
       "    <tr>\n",
       "      <td>507</td>\n",
       "      <td>0.351530</td>\n",
       "      <td>-0.789952</td>\n",
       "      <td>-0.277567</td>\n",
       "      <td>-0.910409</td>\n",
       "      <td>0.479665</td>\n",
       "      <td>-0.050667</td>\n",
       "      <td>0.159819</td>\n",
       "      <td>-1.528729</td>\n",
       "      <td>2.567601</td>\n",
       "      <td>-1.089590</td>\n",
       "      <td>-0.579011</td>\n",
       "      <td>0.029201</td>\n",
       "      <td>-0.147066</td>\n",
       "    </tr>\n",
       "    <tr>\n",
       "      <td>508</td>\n",
       "      <td>1.357024</td>\n",
       "      <td>-0.032397</td>\n",
       "      <td>0.126849</td>\n",
       "      <td>-0.245216</td>\n",
       "      <td>2.048920</td>\n",
       "      <td>0.351530</td>\n",
       "      <td>1.279192</td>\n",
       "      <td>0.847215</td>\n",
       "      <td>0.876110</td>\n",
       "      <td>-1.089590</td>\n",
       "      <td>-0.043461</td>\n",
       "      <td>-1.336610</td>\n",
       "      <td>-0.992207</td>\n",
       "    </tr>\n",
       "    <tr>\n",
       "      <td>509</td>\n",
       "      <td>1.558123</td>\n",
       "      <td>0.747772</td>\n",
       "      <td>0.430161</td>\n",
       "      <td>0.610033</td>\n",
       "      <td>1.264292</td>\n",
       "      <td>0.150431</td>\n",
       "      <td>0.906068</td>\n",
       "      <td>0.493351</td>\n",
       "      <td>0.781082</td>\n",
       "      <td>-0.304963</td>\n",
       "      <td>0.266302</td>\n",
       "      <td>-1.050613</td>\n",
       "      <td>0.762784</td>\n",
       "    </tr>\n",
       "    <tr>\n",
       "      <td>510</td>\n",
       "      <td>-0.251766</td>\n",
       "      <td>-0.699498</td>\n",
       "      <td>-0.454499</td>\n",
       "      <td>-0.492287</td>\n",
       "      <td>1.264292</td>\n",
       "      <td>0.954827</td>\n",
       "      <td>-0.269839</td>\n",
       "      <td>-1.629833</td>\n",
       "      <td>1.997435</td>\n",
       "      <td>-1.089590</td>\n",
       "      <td>-1.111393</td>\n",
       "      <td>-0.772539</td>\n",
       "      <td>-1.219669</td>\n",
       "    </tr>\n",
       "    <tr>\n",
       "      <td>511</td>\n",
       "      <td>-0.855063</td>\n",
       "      <td>-0.213305</td>\n",
       "      <td>0.670283</td>\n",
       "      <td>-1.366541</td>\n",
       "      <td>1.264292</td>\n",
       "      <td>0.954827</td>\n",
       "      <td>0.352034</td>\n",
       "      <td>0.366971</td>\n",
       "      <td>0.039867</td>\n",
       "      <td>-1.089590</td>\n",
       "      <td>-1.420364</td>\n",
       "      <td>-1.153604</td>\n",
       "      <td>0.564734</td>\n",
       "    </tr>\n",
       "  </tbody>\n",
       "</table>\n",
       "<p>512 rows × 13 columns</p>\n",
       "</div>"
      ],
      "text/plain": [
       "         1stD     TotYd     PassY     RushY        TO    1stD.1   TotYd.1  \\\n",
       "0    0.753728  1.324419  1.656047 -0.264221 -1.089590 -1.056162 -0.450748   \n",
       "1    1.357024  0.352034  0.253229  0.210917 -0.304963 -1.860557 -1.852791   \n",
       "2    0.150431  0.374648  0.986233 -0.853392  0.479665 -2.866051 -2.746028   \n",
       "3   -1.860557 -1.400519 -1.073761 -0.739359 -0.304963  0.552629  0.306807   \n",
       "4    0.552629  1.064363  0.973595  0.324950 -0.304963 -1.860557 -1.411826   \n",
       "..        ...       ...       ...       ...       ...       ...       ...   \n",
       "507  0.351530 -0.789952 -0.277567 -0.910409  0.479665 -0.050667  0.159819   \n",
       "508  1.357024 -0.032397  0.126849 -0.245216  2.048920  0.351530  1.279192   \n",
       "509  1.558123  0.747772  0.430161  0.610033  1.264292  0.150431  0.906068   \n",
       "510 -0.251766 -0.699498 -0.454499 -0.492287  1.264292  0.954827 -0.269839   \n",
       "511 -0.855063 -0.213305  0.670283 -1.366541  1.264292  0.954827  0.352034   \n",
       "\n",
       "      PassY.1   RushY.1      TO.1   Offense   Defense   Sp. Tms  \n",
       "0    0.518627 -1.537591 -0.304963  1.210645  0.987012 -0.156871  \n",
       "1   -1.174865 -1.347536  2.048920  0.884244  3.042066 -2.362864  \n",
       "2   -2.097439 -1.461569 -0.304963 -0.103671  2.328264 -1.923627  \n",
       "3    0.063659  0.419977  2.048920 -1.390259  1.241319  1.194178  \n",
       "4   -1.983697  0.610033  0.479665  0.496842  1.880651 -1.282418  \n",
       "..        ...       ...       ...       ...       ...       ...  \n",
       "507 -1.528729  2.567601 -1.089590 -0.579011  0.029201 -0.147066  \n",
       "508  0.847215  0.876110 -1.089590 -0.043461 -1.336610 -0.992207  \n",
       "509  0.493351  0.781082 -0.304963  0.266302 -1.050613  0.762784  \n",
       "510 -1.629833  1.997435 -1.089590 -1.111393 -0.772539 -1.219669  \n",
       "511  0.366971  0.039867 -1.089590 -1.420364 -1.153604  0.564734  \n",
       "\n",
       "[512 rows x 13 columns]"
      ]
     },
     "execution_count": 12,
     "metadata": {},
     "output_type": "execute_result"
    }
   ],
   "source": [
    "standard_df.iloc[:,2:]"
   ]
  },
  {
   "cell_type": "code",
   "execution_count": 13,
   "metadata": {
    "slideshow": {
     "slide_type": "slide"
    }
   },
   "outputs": [
    {
     "name": "stdout",
     "output_type": "stream",
     "text": [
      "[0 0 0 1 0 0 0 1 1 1 0 1 0 1 0 1 1 1 1 1 0 0 1 0 0 1 1 1 0 1 1 1 0 0 1 0 1\n",
      " 1 1 1 0 1 0 0 0 0 1 0 0 1 1 1 0 1 0 0 1 1 0 0 0 0 0 1 0 1 0 0 0 0 1 0 0 0\n",
      " 1 1 1 1 0 0 0 1 0 1 0 0 1 0 1 0 0 1 0 1 1 1 0 1 0 0 0 1 0 0 1 0 0 1 0 1 0\n",
      " 0 0 0 0 0 1 0 0 0 0 1 1 0 1 1 1 1]\n"
     ]
    },
    {
     "name": "stderr",
     "output_type": "stream",
     "text": [
      "/opt/anaconda3/lib/python3.7/site-packages/sklearn/linear_model/logistic.py:432: FutureWarning: Default solver will be changed to 'lbfgs' in 0.22. Specify a solver to silence this warning.\n",
      "  FutureWarning)\n"
     ]
    }
   ],
   "source": [
    "new_clf = LogisticRegression().fit(new_x_train, new_y_train)\n",
    "new_predict = new_clf.predict(new_x_test)\n",
    "print(new_predict)"
   ]
  },
  {
   "cell_type": "code",
   "execution_count": 14,
   "metadata": {
    "slideshow": {
     "slide_type": "slide"
    }
   },
   "outputs": [
    {
     "name": "stdout",
     "output_type": "stream",
     "text": [
      "0.9765625\n"
     ]
    }
   ],
   "source": [
    "print(accuracy_score(new_y_test, new_predict))"
   ]
  },
  {
   "cell_type": "code",
   "execution_count": 15,
   "metadata": {},
   "outputs": [
    {
     "name": "stdout",
     "output_type": "stream",
     "text": [
      "0.9713541666666666\n"
     ]
    }
   ],
   "source": [
    "accuracy = []\n",
    "for i in range(30):\n",
    "    new_x_train, new_x_test, new_y_train, new_y_test = train_test_split(standard_df.iloc[:,2:], df['Result'], test_size = 0.25)\n",
    "    new_predict = new_clf.predict(new_x_test)\n",
    "    accuracy.append(accuracy_score(new_y_test, new_predict))\n",
    "print(np.mean(accuracy))"
   ]
  },
  {
   "cell_type": "markdown",
   "metadata": {},
   "source": [
    "After taking out the scores we performed the regression again. Here we wrote a loop to get an average of the accuracy scores if we ran the regression 30 times. Our accuracy is slightly lower than when we included the scores which makes sense. But overall with having an average of 96% accuracy is very good."
   ]
  },
  {
   "cell_type": "code",
   "execution_count": 16,
   "metadata": {
    "slideshow": {
     "slide_type": "slide"
    }
   },
   "outputs": [],
   "source": [
    "df_2020 = pd.read_csv('Project_Data-2020.csv')"
   ]
  },
  {
   "cell_type": "code",
   "execution_count": 17,
   "metadata": {
    "slideshow": {
     "slide_type": "slide"
    }
   },
   "outputs": [
    {
     "data": {
      "text/html": [
       "<div>\n",
       "<style scoped>\n",
       "    .dataframe tbody tr th:only-of-type {\n",
       "        vertical-align: middle;\n",
       "    }\n",
       "\n",
       "    .dataframe tbody tr th {\n",
       "        vertical-align: top;\n",
       "    }\n",
       "\n",
       "    .dataframe thead th {\n",
       "        text-align: right;\n",
       "    }\n",
       "</style>\n",
       "<table border=\"1\" class=\"dataframe\">\n",
       "  <thead>\n",
       "    <tr style=\"text-align: right;\">\n",
       "      <th></th>\n",
       "      <th>Team</th>\n",
       "      <th>Week</th>\n",
       "      <th>Result</th>\n",
       "      <th>OT</th>\n",
       "      <th>Loc</th>\n",
       "      <th>Opp</th>\n",
       "      <th>Tm</th>\n",
       "      <th>Opp.1</th>\n",
       "      <th>1stD</th>\n",
       "      <th>TotYd</th>\n",
       "      <th>...</th>\n",
       "      <th>RushY</th>\n",
       "      <th>TO</th>\n",
       "      <th>1stD.1</th>\n",
       "      <th>TotYd.1</th>\n",
       "      <th>PassY.1</th>\n",
       "      <th>RushY.1</th>\n",
       "      <th>TO.1</th>\n",
       "      <th>Offense</th>\n",
       "      <th>Defense</th>\n",
       "      <th>Sp. Tms</th>\n",
       "    </tr>\n",
       "  </thead>\n",
       "  <tbody>\n",
       "    <tr>\n",
       "      <td>0</td>\n",
       "      <td>Buffalo Bills</td>\n",
       "      <td>1</td>\n",
       "      <td>W</td>\n",
       "      <td>NaN</td>\n",
       "      <td>NaN</td>\n",
       "      <td>New York Jets</td>\n",
       "      <td>27.0</td>\n",
       "      <td>17.0</td>\n",
       "      <td>31.0</td>\n",
       "      <td>404.0</td>\n",
       "      <td>...</td>\n",
       "      <td>98.0</td>\n",
       "      <td>2.0</td>\n",
       "      <td>15.0</td>\n",
       "      <td>254.0</td>\n",
       "      <td>202.0</td>\n",
       "      <td>52.0</td>\n",
       "      <td>2.0</td>\n",
       "      <td>14.47</td>\n",
       "      <td>0.12</td>\n",
       "      <td>-3.63</td>\n",
       "    </tr>\n",
       "    <tr>\n",
       "      <td>1</td>\n",
       "      <td>Buffalo Bills</td>\n",
       "      <td>2</td>\n",
       "      <td>W</td>\n",
       "      <td>NaN</td>\n",
       "      <td>@</td>\n",
       "      <td>Miami Dolphins</td>\n",
       "      <td>31.0</td>\n",
       "      <td>28.0</td>\n",
       "      <td>23.0</td>\n",
       "      <td>523.0</td>\n",
       "      <td>...</td>\n",
       "      <td>112.0</td>\n",
       "      <td>1.0</td>\n",
       "      <td>28.0</td>\n",
       "      <td>410.0</td>\n",
       "      <td>311.0</td>\n",
       "      <td>99.0</td>\n",
       "      <td>NaN</td>\n",
       "      <td>21.16</td>\n",
       "      <td>-12.70</td>\n",
       "      <td>-2.30</td>\n",
       "    </tr>\n",
       "    <tr>\n",
       "      <td>2</td>\n",
       "      <td>Buffalo Bills</td>\n",
       "      <td>3</td>\n",
       "      <td>W</td>\n",
       "      <td>NaN</td>\n",
       "      <td>NaN</td>\n",
       "      <td>Los Angeles Rams</td>\n",
       "      <td>35.0</td>\n",
       "      <td>32.0</td>\n",
       "      <td>23.0</td>\n",
       "      <td>375.0</td>\n",
       "      <td>...</td>\n",
       "      <td>101.0</td>\n",
       "      <td>2.0</td>\n",
       "      <td>28.0</td>\n",
       "      <td>478.0</td>\n",
       "      <td>311.0</td>\n",
       "      <td>167.0</td>\n",
       "      <td>2.0</td>\n",
       "      <td>17.83</td>\n",
       "      <td>-19.86</td>\n",
       "      <td>6.79</td>\n",
       "    </tr>\n",
       "    <tr>\n",
       "      <td>3</td>\n",
       "      <td>Buffalo Bills</td>\n",
       "      <td>4</td>\n",
       "      <td>W</td>\n",
       "      <td>NaN</td>\n",
       "      <td>@</td>\n",
       "      <td>Las Vegas Raiders</td>\n",
       "      <td>30.0</td>\n",
       "      <td>23.0</td>\n",
       "      <td>21.0</td>\n",
       "      <td>337.0</td>\n",
       "      <td>...</td>\n",
       "      <td>63.0</td>\n",
       "      <td>NaN</td>\n",
       "      <td>24.0</td>\n",
       "      <td>383.0</td>\n",
       "      <td>297.0</td>\n",
       "      <td>86.0</td>\n",
       "      <td>2.0</td>\n",
       "      <td>16.49</td>\n",
       "      <td>-7.20</td>\n",
       "      <td>-1.37</td>\n",
       "    </tr>\n",
       "    <tr>\n",
       "      <td>4</td>\n",
       "      <td>Buffalo Bills</td>\n",
       "      <td>5</td>\n",
       "      <td>L</td>\n",
       "      <td>NaN</td>\n",
       "      <td>@</td>\n",
       "      <td>Tennessee Titans</td>\n",
       "      <td>16.0</td>\n",
       "      <td>42.0</td>\n",
       "      <td>23.0</td>\n",
       "      <td>370.0</td>\n",
       "      <td>...</td>\n",
       "      <td>95.0</td>\n",
       "      <td>3.0</td>\n",
       "      <td>25.0</td>\n",
       "      <td>334.0</td>\n",
       "      <td>195.0</td>\n",
       "      <td>139.0</td>\n",
       "      <td>NaN</td>\n",
       "      <td>1.55</td>\n",
       "      <td>-24.29</td>\n",
       "      <td>-0.82</td>\n",
       "    </tr>\n",
       "  </tbody>\n",
       "</table>\n",
       "<p>5 rows × 21 columns</p>\n",
       "</div>"
      ],
      "text/plain": [
       "            Team  Week Result   OT  Loc                Opp    Tm  Opp.1  1stD  \\\n",
       "0  Buffalo Bills     1      W  NaN  NaN      New York Jets  27.0   17.0  31.0   \n",
       "1  Buffalo Bills     2      W  NaN    @     Miami Dolphins  31.0   28.0  23.0   \n",
       "2  Buffalo Bills     3      W  NaN  NaN   Los Angeles Rams  35.0   32.0  23.0   \n",
       "3  Buffalo Bills     4      W  NaN    @  Las Vegas Raiders  30.0   23.0  21.0   \n",
       "4  Buffalo Bills     5      L  NaN    @   Tennessee Titans  16.0   42.0  23.0   \n",
       "\n",
       "   TotYd  ...  RushY   TO  1stD.1  TotYd.1  PassY.1  RushY.1  TO.1  Offense  \\\n",
       "0  404.0  ...   98.0  2.0    15.0    254.0    202.0     52.0   2.0    14.47   \n",
       "1  523.0  ...  112.0  1.0    28.0    410.0    311.0     99.0   NaN    21.16   \n",
       "2  375.0  ...  101.0  2.0    28.0    478.0    311.0    167.0   2.0    17.83   \n",
       "3  337.0  ...   63.0  NaN    24.0    383.0    297.0     86.0   2.0    16.49   \n",
       "4  370.0  ...   95.0  3.0    25.0    334.0    195.0    139.0   NaN     1.55   \n",
       "\n",
       "   Defense  Sp. Tms  \n",
       "0     0.12    -3.63  \n",
       "1   -12.70    -2.30  \n",
       "2   -19.86     6.79  \n",
       "3    -7.20    -1.37  \n",
       "4   -24.29    -0.82  \n",
       "\n",
       "[5 rows x 21 columns]"
      ]
     },
     "execution_count": 17,
     "metadata": {},
     "output_type": "execute_result"
    }
   ],
   "source": [
    "df_2020.head()"
   ]
  },
  {
   "cell_type": "code",
   "execution_count": 18,
   "metadata": {
    "slideshow": {
     "slide_type": "slide"
    }
   },
   "outputs": [],
   "source": [
    "df_2020['OT'] = df['OT'].replace(np.nan, 'None')\n",
    "df_2020['Loc'] = df['Loc'].replace(np.nan, 'Home')\n",
    "df_2020['Loc'] = df['Loc'].replace('@', 'Away')\n",
    "df_2020['TO'] = df['TO'].replace(np.nan, 0)\n",
    "df_2020['TO.1'] = df['TO.1'].replace(np.nan, 0)\n",
    "df_2020 = df_2020.dropna()\n",
    "df_2020 = df_2020.reset_index()\n",
    "df_2020 = df_2020.drop(columns = 'index')"
   ]
  },
  {
   "cell_type": "code",
   "execution_count": 19,
   "metadata": {
    "slideshow": {
     "slide_type": "slide"
    }
   },
   "outputs": [
    {
     "name": "stderr",
     "output_type": "stream",
     "text": [
      "/opt/anaconda3/lib/python3.7/site-packages/pandas/core/indexing.py:205: SettingWithCopyWarning: \n",
      "A value is trying to be set on a copy of a slice from a DataFrame\n",
      "\n",
      "See the caveats in the documentation: http://pandas.pydata.org/pandas-docs/stable/user_guide/indexing.html#returning-a-view-versus-a-copy\n",
      "  self._setitem_with_indexer(indexer, value)\n"
     ]
    },
    {
     "data": {
      "text/html": [
       "<div>\n",
       "<style scoped>\n",
       "    .dataframe tbody tr th:only-of-type {\n",
       "        vertical-align: middle;\n",
       "    }\n",
       "\n",
       "    .dataframe tbody tr th {\n",
       "        vertical-align: top;\n",
       "    }\n",
       "\n",
       "    .dataframe thead th {\n",
       "        text-align: right;\n",
       "    }\n",
       "</style>\n",
       "<table border=\"1\" class=\"dataframe\">\n",
       "  <thead>\n",
       "    <tr style=\"text-align: right;\">\n",
       "      <th></th>\n",
       "      <th>Team</th>\n",
       "      <th>Week</th>\n",
       "      <th>Result</th>\n",
       "      <th>OT</th>\n",
       "      <th>Loc</th>\n",
       "      <th>Opp</th>\n",
       "      <th>Tm</th>\n",
       "      <th>Opp.1</th>\n",
       "      <th>1stD</th>\n",
       "      <th>TotYd</th>\n",
       "      <th>...</th>\n",
       "      <th>RushY</th>\n",
       "      <th>TO</th>\n",
       "      <th>1stD.1</th>\n",
       "      <th>TotYd.1</th>\n",
       "      <th>PassY.1</th>\n",
       "      <th>RushY.1</th>\n",
       "      <th>TO.1</th>\n",
       "      <th>Offense</th>\n",
       "      <th>Defense</th>\n",
       "      <th>Sp. Tms</th>\n",
       "    </tr>\n",
       "  </thead>\n",
       "  <tbody>\n",
       "    <tr>\n",
       "      <td>0</td>\n",
       "      <td>Buffalo Bills</td>\n",
       "      <td>1</td>\n",
       "      <td>1</td>\n",
       "      <td>None</td>\n",
       "      <td>Home</td>\n",
       "      <td>New York Jets</td>\n",
       "      <td>27.0</td>\n",
       "      <td>17.0</td>\n",
       "      <td>31.0</td>\n",
       "      <td>404.0</td>\n",
       "      <td>...</td>\n",
       "      <td>98.0</td>\n",
       "      <td>0.0</td>\n",
       "      <td>15.0</td>\n",
       "      <td>254.0</td>\n",
       "      <td>202.0</td>\n",
       "      <td>52.0</td>\n",
       "      <td>1.0</td>\n",
       "      <td>14.47</td>\n",
       "      <td>0.12</td>\n",
       "      <td>-3.63</td>\n",
       "    </tr>\n",
       "    <tr>\n",
       "      <td>1</td>\n",
       "      <td>Buffalo Bills</td>\n",
       "      <td>2</td>\n",
       "      <td>1</td>\n",
       "      <td>None</td>\n",
       "      <td>Away</td>\n",
       "      <td>Miami Dolphins</td>\n",
       "      <td>31.0</td>\n",
       "      <td>28.0</td>\n",
       "      <td>23.0</td>\n",
       "      <td>523.0</td>\n",
       "      <td>...</td>\n",
       "      <td>112.0</td>\n",
       "      <td>1.0</td>\n",
       "      <td>28.0</td>\n",
       "      <td>410.0</td>\n",
       "      <td>311.0</td>\n",
       "      <td>99.0</td>\n",
       "      <td>4.0</td>\n",
       "      <td>21.16</td>\n",
       "      <td>-12.70</td>\n",
       "      <td>-2.30</td>\n",
       "    </tr>\n",
       "    <tr>\n",
       "      <td>2</td>\n",
       "      <td>Buffalo Bills</td>\n",
       "      <td>3</td>\n",
       "      <td>1</td>\n",
       "      <td>None</td>\n",
       "      <td>Home</td>\n",
       "      <td>Los Angeles Rams</td>\n",
       "      <td>35.0</td>\n",
       "      <td>32.0</td>\n",
       "      <td>23.0</td>\n",
       "      <td>375.0</td>\n",
       "      <td>...</td>\n",
       "      <td>101.0</td>\n",
       "      <td>2.0</td>\n",
       "      <td>28.0</td>\n",
       "      <td>478.0</td>\n",
       "      <td>311.0</td>\n",
       "      <td>167.0</td>\n",
       "      <td>1.0</td>\n",
       "      <td>17.83</td>\n",
       "      <td>-19.86</td>\n",
       "      <td>6.79</td>\n",
       "    </tr>\n",
       "    <tr>\n",
       "      <td>3</td>\n",
       "      <td>Buffalo Bills</td>\n",
       "      <td>4</td>\n",
       "      <td>1</td>\n",
       "      <td>None</td>\n",
       "      <td>Away</td>\n",
       "      <td>Las Vegas Raiders</td>\n",
       "      <td>30.0</td>\n",
       "      <td>23.0</td>\n",
       "      <td>21.0</td>\n",
       "      <td>337.0</td>\n",
       "      <td>...</td>\n",
       "      <td>63.0</td>\n",
       "      <td>1.0</td>\n",
       "      <td>24.0</td>\n",
       "      <td>383.0</td>\n",
       "      <td>297.0</td>\n",
       "      <td>86.0</td>\n",
       "      <td>4.0</td>\n",
       "      <td>16.49</td>\n",
       "      <td>-7.20</td>\n",
       "      <td>-1.37</td>\n",
       "    </tr>\n",
       "    <tr>\n",
       "      <td>4</td>\n",
       "      <td>Buffalo Bills</td>\n",
       "      <td>5</td>\n",
       "      <td>0</td>\n",
       "      <td>None</td>\n",
       "      <td>Away</td>\n",
       "      <td>Tennessee Titans</td>\n",
       "      <td>16.0</td>\n",
       "      <td>42.0</td>\n",
       "      <td>23.0</td>\n",
       "      <td>370.0</td>\n",
       "      <td>...</td>\n",
       "      <td>95.0</td>\n",
       "      <td>1.0</td>\n",
       "      <td>25.0</td>\n",
       "      <td>334.0</td>\n",
       "      <td>195.0</td>\n",
       "      <td>139.0</td>\n",
       "      <td>2.0</td>\n",
       "      <td>1.55</td>\n",
       "      <td>-24.29</td>\n",
       "      <td>-0.82</td>\n",
       "    </tr>\n",
       "  </tbody>\n",
       "</table>\n",
       "<p>5 rows × 21 columns</p>\n",
       "</div>"
      ],
      "text/plain": [
       "            Team  Week  Result    OT   Loc                Opp    Tm  Opp.1  \\\n",
       "0  Buffalo Bills     1       1  None  Home      New York Jets  27.0   17.0   \n",
       "1  Buffalo Bills     2       1  None  Away     Miami Dolphins  31.0   28.0   \n",
       "2  Buffalo Bills     3       1  None  Home   Los Angeles Rams  35.0   32.0   \n",
       "3  Buffalo Bills     4       1  None  Away  Las Vegas Raiders  30.0   23.0   \n",
       "4  Buffalo Bills     5       0  None  Away   Tennessee Titans  16.0   42.0   \n",
       "\n",
       "   1stD  TotYd  ...  RushY   TO  1stD.1  TotYd.1  PassY.1  RushY.1  TO.1  \\\n",
       "0  31.0  404.0  ...   98.0  0.0    15.0    254.0    202.0     52.0   1.0   \n",
       "1  23.0  523.0  ...  112.0  1.0    28.0    410.0    311.0     99.0   4.0   \n",
       "2  23.0  375.0  ...  101.0  2.0    28.0    478.0    311.0    167.0   1.0   \n",
       "3  21.0  337.0  ...   63.0  1.0    24.0    383.0    297.0     86.0   4.0   \n",
       "4  23.0  370.0  ...   95.0  1.0    25.0    334.0    195.0    139.0   2.0   \n",
       "\n",
       "   Offense  Defense  Sp. Tms  \n",
       "0    14.47     0.12    -3.63  \n",
       "1    21.16   -12.70    -2.30  \n",
       "2    17.83   -19.86     6.79  \n",
       "3    16.49    -7.20    -1.37  \n",
       "4     1.55   -24.29    -0.82  \n",
       "\n",
       "[5 rows x 21 columns]"
      ]
     },
     "execution_count": 19,
     "metadata": {},
     "output_type": "execute_result"
    }
   ],
   "source": [
    "for i in range(len(df_2020['Result'])):\n",
    "    if df_2020['Result'].iloc[i] == 'W':\n",
    "        df_2020['Result'].iloc[i] = 1\n",
    "    if df_2020['Result'].iloc[i] == 'L':\n",
    "        df_2020['Result'].iloc[i] = 0\n",
    "    if df_2020['Result'].iloc[i] == 'T':\n",
    "        df_2020['Result'].iloc[i] = 0\n",
    "df_2020.head()"
   ]
  },
  {
   "cell_type": "code",
   "execution_count": 20,
   "metadata": {
    "slideshow": {
     "slide_type": "slide"
    }
   },
   "outputs": [
    {
     "data": {
      "text/plain": [
       "Text(0.5, 1, '2020 Correlation')"
      ]
     },
     "execution_count": 20,
     "metadata": {},
     "output_type": "execute_result"
    },
    {
     "data": {
      "image/png": "[encoded data removed]",
      "text/plain": [
       "<Figure size 504x504 with 2 Axes>"
      ]
     },
     "metadata": {
      "needs_background": "light"
     },
     "output_type": "display_data"
    },
    {
     "data": {
      "image/png": "[encoded data removed]",
      "text/plain": [
       "<Figure size 504x504 with 2 Axes>"
      ]
     },
     "metadata": {
      "needs_background": "light"
     },
     "output_type": "display_data"
    }
   ],
   "source": [
    "corr = df.drop(['Team', 'Week', 'OT', 'Loc', 'Opp', 'Tm', 'Opp.1'], axis=1).corr()\n",
    "plt.figure(1, figsize=(7,7))\n",
    "sns.heatmap(corr, cmap = 'jet', cbar_kws={\"shrink\": .75})\n",
    "plt.ylim(0, 20)\n",
    "plt.xlim(0, None)\n",
    "plt.title('2019 Correlation')\n",
    "plt.figure(2, figsize=(7,7))\n",
    "corr2 = df_2020.drop(['Team', 'Week', 'OT', 'Loc', 'Opp', 'Tm', 'Opp.1'], axis=1).corr()\n",
    "sns.heatmap(corr2, cmap = 'jet')\n",
    "plt.ylim(0, 20)\n",
    "plt.xlim(0, None)\n",
    "plt.title('2020 Correlation')"
   ]
  },
  {
   "cell_type": "markdown",
   "metadata": {},
   "source": [
    "Here we wanted to see how the correlation matrices compared with one another from 2019 and 2020. There were not that many difference between the two, however, we did notice what looked like the biggest difference was that turnovers commited by the other team are less correlated to winning in 2020 than in 2019."
   ]
  },
  {
   "cell_type": "code",
   "execution_count": 21,
   "metadata": {
    "slideshow": {
     "slide_type": "slide"
    }
   },
   "outputs": [
    {
     "data": {
      "text/html": [
       "<div>\n",
       "<style scoped>\n",
       "    .dataframe tbody tr th:only-of-type {\n",
       "        vertical-align: middle;\n",
       "    }\n",
       "\n",
       "    .dataframe tbody tr th {\n",
       "        vertical-align: top;\n",
       "    }\n",
       "\n",
       "    .dataframe thead th {\n",
       "        text-align: right;\n",
       "    }\n",
       "</style>\n",
       "<table border=\"1\" class=\"dataframe\">\n",
       "  <thead>\n",
       "    <tr style=\"text-align: right;\">\n",
       "      <th></th>\n",
       "      <th>Tm</th>\n",
       "      <th>Opp.1</th>\n",
       "      <th>1stD</th>\n",
       "      <th>TotYd</th>\n",
       "      <th>PassY</th>\n",
       "      <th>RushY</th>\n",
       "      <th>TO</th>\n",
       "      <th>1stD.1</th>\n",
       "      <th>TotYd.1</th>\n",
       "      <th>PassY.1</th>\n",
       "      <th>RushY.1</th>\n",
       "      <th>TO.1</th>\n",
       "      <th>Offense</th>\n",
       "      <th>Defense</th>\n",
       "      <th>Sp. Tms</th>\n",
       "    </tr>\n",
       "  </thead>\n",
       "  <tbody>\n",
       "    <tr>\n",
       "      <td>0</td>\n",
       "      <td>0.212063</td>\n",
       "      <td>-0.839989</td>\n",
       "      <td>1.881641</td>\n",
       "      <td>0.559853</td>\n",
       "      <td>0.831542</td>\n",
       "      <td>-0.341037</td>\n",
       "      <td>-1.080402</td>\n",
       "      <td>-1.357458</td>\n",
       "      <td>-1.229704</td>\n",
       "      <td>-0.502826</td>\n",
       "      <td>-1.265765</td>\n",
       "      <td>-0.330926</td>\n",
       "      <td>0.704472</td>\n",
       "      <td>0.518510</td>\n",
       "      <td>-0.705794</td>\n",
       "    </tr>\n",
       "    <tr>\n",
       "      <td>1</td>\n",
       "      <td>0.641063</td>\n",
       "      <td>0.329532</td>\n",
       "      <td>0.255275</td>\n",
       "      <td>1.993121</td>\n",
       "      <td>2.208750</td>\n",
       "      <td>-0.058768</td>\n",
       "      <td>-0.299495</td>\n",
       "      <td>1.241591</td>\n",
       "      <td>0.626157</td>\n",
       "      <td>0.908368</td>\n",
       "      <td>-0.343831</td>\n",
       "      <td>2.014427</td>\n",
       "      <td>1.270990</td>\n",
       "      <td>-0.555761</td>\n",
       "      <td>-0.448306</td>\n",
       "    </tr>\n",
       "    <tr>\n",
       "      <td>2</td>\n",
       "      <td>1.070064</td>\n",
       "      <td>0.754812</td>\n",
       "      <td>0.255275</td>\n",
       "      <td>0.210569</td>\n",
       "      <td>0.411821</td>\n",
       "      <td>-0.280551</td>\n",
       "      <td>0.481411</td>\n",
       "      <td>1.241591</td>\n",
       "      <td>1.435122</td>\n",
       "      <td>0.908368</td>\n",
       "      <td>0.990032</td>\n",
       "      <td>-0.330926</td>\n",
       "      <td>0.989001</td>\n",
       "      <td>-1.155744</td>\n",
       "      <td>1.311522</td>\n",
       "    </tr>\n",
       "    <tr>\n",
       "      <td>3</td>\n",
       "      <td>0.533813</td>\n",
       "      <td>-0.202069</td>\n",
       "      <td>-0.151317</td>\n",
       "      <td>-0.247113</td>\n",
       "      <td>0.411821</td>\n",
       "      <td>-1.046710</td>\n",
       "      <td>-0.299495</td>\n",
       "      <td>0.441884</td>\n",
       "      <td>0.304950</td>\n",
       "      <td>0.727113</td>\n",
       "      <td>-0.598834</td>\n",
       "      <td>2.014427</td>\n",
       "      <td>0.875528</td>\n",
       "      <td>-0.094880</td>\n",
       "      <td>-0.268258</td>\n",
       "    </tr>\n",
       "    <tr>\n",
       "      <td>4</td>\n",
       "      <td>-0.967688</td>\n",
       "      <td>1.818013</td>\n",
       "      <td>0.255275</td>\n",
       "      <td>0.150348</td>\n",
       "      <td>0.424937</td>\n",
       "      <td>-0.401523</td>\n",
       "      <td>-0.299495</td>\n",
       "      <td>0.641811</td>\n",
       "      <td>-0.277980</td>\n",
       "      <td>-0.593453</td>\n",
       "      <td>0.440794</td>\n",
       "      <td>0.450858</td>\n",
       "      <td>-0.389611</td>\n",
       "      <td>-1.526962</td>\n",
       "      <td>-0.161777</td>\n",
       "    </tr>\n",
       "  </tbody>\n",
       "</table>\n",
       "</div>"
      ],
      "text/plain": [
       "         Tm     Opp.1      1stD     TotYd     PassY     RushY        TO  \\\n",
       "0  0.212063 -0.839989  1.881641  0.559853  0.831542 -0.341037 -1.080402   \n",
       "1  0.641063  0.329532  0.255275  1.993121  2.208750 -0.058768 -0.299495   \n",
       "2  1.070064  0.754812  0.255275  0.210569  0.411821 -0.280551  0.481411   \n",
       "3  0.533813 -0.202069 -0.151317 -0.247113  0.411821 -1.046710 -0.299495   \n",
       "4 -0.967688  1.818013  0.255275  0.150348  0.424937 -0.401523 -0.299495   \n",
       "\n",
       "     1stD.1   TotYd.1   PassY.1   RushY.1      TO.1   Offense   Defense  \\\n",
       "0 -1.357458 -1.229704 -0.502826 -1.265765 -0.330926  0.704472  0.518510   \n",
       "1  1.241591  0.626157  0.908368 -0.343831  2.014427  1.270990 -0.555761   \n",
       "2  1.241591  1.435122  0.908368  0.990032 -0.330926  0.989001 -1.155744   \n",
       "3  0.441884  0.304950  0.727113 -0.598834  2.014427  0.875528 -0.094880   \n",
       "4  0.641811 -0.277980 -0.593453  0.440794  0.450858 -0.389611 -1.526962   \n",
       "\n",
       "    Sp. Tms  \n",
       "0 -0.705794  \n",
       "1 -0.448306  \n",
       "2  1.311522  \n",
       "3 -0.268258  \n",
       "4 -0.161777  "
      ]
     },
     "execution_count": 21,
     "metadata": {},
     "output_type": "execute_result"
    }
   ],
   "source": [
    "scaler2 = StandardScaler()\n",
    "scaled_df2 = scaler2.fit_transform(df_2020.iloc[:,6:])\n",
    "scaled_df2 = pd.DataFrame(scaled_df2, columns = ['Tm', 'Opp.1', '1stD', 'TotYd', 'PassY', 'RushY', 'TO', \n",
    "                                                '1stD.1', 'TotYd.1', 'PassY.1', 'RushY.1', 'TO.1', 'Offense',\n",
    "                                                'Defense', 'Sp. Tms'])\n",
    "scaled_df2.head()"
   ]
  },
  {
   "cell_type": "code",
   "execution_count": 22,
   "metadata": {
    "slideshow": {
     "slide_type": "slide"
    }
   },
   "outputs": [
    {
     "name": "stdout",
     "output_type": "stream",
     "text": [
      "[1 1 1 1 0 0 1 1 1 0 1 0 0 1 0 1 1 1 1 1 0 1 0 1 1 0 0 1 1 0 0 0 1 1 1 1 1\n",
      " 0 0 1 1 1 1 1 0 0 0 0 0 0 0 0 0 0 0 1 1 0 0 1 1 1 0 1 0 0 1 1 0 1 1 0 1 0\n",
      " 1 1 0 1 1 1 1 1 1 0 0 1 1 0 1 1 1 1 0 1 0 1 1 1 1 1 1 1 1 0 1 0 0 1 1 0 0\n",
      " 1 1 1 0 0 0 1 0 1 1 1 1 0 1 1 1 1 1 0 0 0 0 0 1 0 0 0 1 0 0 0 0 1 1 1 1 0\n",
      " 0 1 0 1 1 0 1 0 0 0 1 0 1 1 0 1 0 1 1 1 0 1 1 0 1 1 0 0 1 1 1 0 1 1 1 0 1\n",
      " 0 0 0 0 0 0 1 0 0 1 0 1 1 1 0 0 0 0 0 0 0 1 0 0 1 1 1 1 0 1 1 1 0 1 1 1 0\n",
      " 0 1 1 1 0 1 1 1 1 1 1 0 0 1 0 1 1 1 0 0 0 0 1 0 1 1 0 0 1 0 0 1 0 0 1 1 0\n",
      " 1 0 0 1 0 1 1 0 0 1 1 1 0 0 1 0 1 1 1 0 1 1 0 1 0 0 0 0 0 1 1 0 0 1 1 1 0\n",
      " 0 1 1 1 1 0 1 0 1 1 0 1 0 0 0 0 1 0 0 0 0 1 0 0 0 1 1 0 0 1 1 0 0 0 0 0 0\n",
      " 0 0 1 0 0 1 1 1 1 0 0 0 0 0 1 0 0 1 1]\n"
     ]
    }
   ],
   "source": [
    "predict2 = new_clf.predict(scaled_df2.iloc[:,2:])\n",
    "print(predict2)"
   ]
  },
  {
   "cell_type": "code",
   "execution_count": 23,
   "metadata": {
    "slideshow": {
     "slide_type": "slide"
    }
   },
   "outputs": [
    {
     "name": "stdout",
     "output_type": "stream",
     "text": [
      "0.9431818181818182\n"
     ]
    }
   ],
   "source": [
    "print(accuracy_score(df_2020['Result'], predict2))"
   ]
  },
  {
   "cell_type": "markdown",
   "metadata": {},
   "source": [
    "Here we performed the ultimate test, using the model we created the second time around for the 2019 data, we used all of the 2020 data as one last test. Doing this we found that our model was 94.8% accurate at predicting the correct winner for the 2020 NFL regular season, thus far."
   ]
  },
  {
   "cell_type": "code",
   "execution_count": 24,
   "metadata": {
    "scrolled": false
   },
   "outputs": [
    {
     "name": "stderr",
     "output_type": "stream",
     "text": [
      "/opt/anaconda3/lib/python3.7/site-packages/pandas/core/indexing.py:205: SettingWithCopyWarning: \n",
      "A value is trying to be set on a copy of a slice from a DataFrame\n",
      "\n",
      "See the caveats in the documentation: http://pandas.pydata.org/pandas-docs/stable/user_guide/indexing.html#returning-a-view-versus-a-copy\n",
      "  self._setitem_with_indexer(indexer, value)\n"
     ]
    },
    {
     "data": {
      "text/html": [
       "<div>\n",
       "<style scoped>\n",
       "    .dataframe tbody tr th:only-of-type {\n",
       "        vertical-align: middle;\n",
       "    }\n",
       "\n",
       "    .dataframe tbody tr th {\n",
       "        vertical-align: top;\n",
       "    }\n",
       "\n",
       "    .dataframe thead th {\n",
       "        text-align: right;\n",
       "    }\n",
       "</style>\n",
       "<table border=\"1\" class=\"dataframe\">\n",
       "  <thead>\n",
       "    <tr style=\"text-align: right;\">\n",
       "      <th></th>\n",
       "      <th>Team</th>\n",
       "      <th>Week</th>\n",
       "      <th>Result</th>\n",
       "      <th>Prediction</th>\n",
       "      <th>Opp</th>\n",
       "      <th>Tm</th>\n",
       "      <th>Opp.1</th>\n",
       "      <th>1stD</th>\n",
       "      <th>TotYd</th>\n",
       "      <th>PassY</th>\n",
       "      <th>RushY</th>\n",
       "      <th>TO</th>\n",
       "      <th>1stD.1</th>\n",
       "      <th>TotYd.1</th>\n",
       "      <th>PassY.1</th>\n",
       "      <th>RushY.1</th>\n",
       "      <th>TO.1</th>\n",
       "      <th>Offense</th>\n",
       "      <th>Defense</th>\n",
       "      <th>Sp. Tms</th>\n",
       "    </tr>\n",
       "  </thead>\n",
       "  <tbody>\n",
       "    <tr>\n",
       "      <td>0</td>\n",
       "      <td>Buffalo Bills</td>\n",
       "      <td>1</td>\n",
       "      <td>W</td>\n",
       "      <td>W</td>\n",
       "      <td>New York Jets</td>\n",
       "      <td>27.0</td>\n",
       "      <td>17.0</td>\n",
       "      <td>31.0</td>\n",
       "      <td>404.0</td>\n",
       "      <td>306.0</td>\n",
       "      <td>98.0</td>\n",
       "      <td>0.0</td>\n",
       "      <td>15.0</td>\n",
       "      <td>254.0</td>\n",
       "      <td>202.0</td>\n",
       "      <td>52.0</td>\n",
       "      <td>1.0</td>\n",
       "      <td>14.47</td>\n",
       "      <td>0.12</td>\n",
       "      <td>-3.63</td>\n",
       "    </tr>\n",
       "    <tr>\n",
       "      <td>1</td>\n",
       "      <td>Buffalo Bills</td>\n",
       "      <td>2</td>\n",
       "      <td>W</td>\n",
       "      <td>W</td>\n",
       "      <td>Miami Dolphins</td>\n",
       "      <td>31.0</td>\n",
       "      <td>28.0</td>\n",
       "      <td>23.0</td>\n",
       "      <td>523.0</td>\n",
       "      <td>411.0</td>\n",
       "      <td>112.0</td>\n",
       "      <td>1.0</td>\n",
       "      <td>28.0</td>\n",
       "      <td>410.0</td>\n",
       "      <td>311.0</td>\n",
       "      <td>99.0</td>\n",
       "      <td>4.0</td>\n",
       "      <td>21.16</td>\n",
       "      <td>-12.70</td>\n",
       "      <td>-2.30</td>\n",
       "    </tr>\n",
       "    <tr>\n",
       "      <td>2</td>\n",
       "      <td>Buffalo Bills</td>\n",
       "      <td>3</td>\n",
       "      <td>W</td>\n",
       "      <td>W</td>\n",
       "      <td>Los Angeles Rams</td>\n",
       "      <td>35.0</td>\n",
       "      <td>32.0</td>\n",
       "      <td>23.0</td>\n",
       "      <td>375.0</td>\n",
       "      <td>274.0</td>\n",
       "      <td>101.0</td>\n",
       "      <td>2.0</td>\n",
       "      <td>28.0</td>\n",
       "      <td>478.0</td>\n",
       "      <td>311.0</td>\n",
       "      <td>167.0</td>\n",
       "      <td>1.0</td>\n",
       "      <td>17.83</td>\n",
       "      <td>-19.86</td>\n",
       "      <td>6.79</td>\n",
       "    </tr>\n",
       "    <tr>\n",
       "      <td>3</td>\n",
       "      <td>Buffalo Bills</td>\n",
       "      <td>4</td>\n",
       "      <td>W</td>\n",
       "      <td>W</td>\n",
       "      <td>Las Vegas Raiders</td>\n",
       "      <td>30.0</td>\n",
       "      <td>23.0</td>\n",
       "      <td>21.0</td>\n",
       "      <td>337.0</td>\n",
       "      <td>274.0</td>\n",
       "      <td>63.0</td>\n",
       "      <td>1.0</td>\n",
       "      <td>24.0</td>\n",
       "      <td>383.0</td>\n",
       "      <td>297.0</td>\n",
       "      <td>86.0</td>\n",
       "      <td>4.0</td>\n",
       "      <td>16.49</td>\n",
       "      <td>-7.20</td>\n",
       "      <td>-1.37</td>\n",
       "    </tr>\n",
       "    <tr>\n",
       "      <td>4</td>\n",
       "      <td>Buffalo Bills</td>\n",
       "      <td>5</td>\n",
       "      <td>L</td>\n",
       "      <td>L</td>\n",
       "      <td>Tennessee Titans</td>\n",
       "      <td>16.0</td>\n",
       "      <td>42.0</td>\n",
       "      <td>23.0</td>\n",
       "      <td>370.0</td>\n",
       "      <td>275.0</td>\n",
       "      <td>95.0</td>\n",
       "      <td>1.0</td>\n",
       "      <td>25.0</td>\n",
       "      <td>334.0</td>\n",
       "      <td>195.0</td>\n",
       "      <td>139.0</td>\n",
       "      <td>2.0</td>\n",
       "      <td>1.55</td>\n",
       "      <td>-24.29</td>\n",
       "      <td>-0.82</td>\n",
       "    </tr>\n",
       "  </tbody>\n",
       "</table>\n",
       "</div>"
      ],
      "text/plain": [
       "            Team  Week Result Prediction                Opp    Tm  Opp.1  \\\n",
       "0  Buffalo Bills     1      W          W      New York Jets  27.0   17.0   \n",
       "1  Buffalo Bills     2      W          W     Miami Dolphins  31.0   28.0   \n",
       "2  Buffalo Bills     3      W          W   Los Angeles Rams  35.0   32.0   \n",
       "3  Buffalo Bills     4      W          W  Las Vegas Raiders  30.0   23.0   \n",
       "4  Buffalo Bills     5      L          L   Tennessee Titans  16.0   42.0   \n",
       "\n",
       "   1stD  TotYd  PassY  RushY   TO  1stD.1  TotYd.1  PassY.1  RushY.1  TO.1  \\\n",
       "0  31.0  404.0  306.0   98.0  0.0    15.0    254.0    202.0     52.0   1.0   \n",
       "1  23.0  523.0  411.0  112.0  1.0    28.0    410.0    311.0     99.0   4.0   \n",
       "2  23.0  375.0  274.0  101.0  2.0    28.0    478.0    311.0    167.0   1.0   \n",
       "3  21.0  337.0  274.0   63.0  1.0    24.0    383.0    297.0     86.0   4.0   \n",
       "4  23.0  370.0  275.0   95.0  1.0    25.0    334.0    195.0    139.0   2.0   \n",
       "\n",
       "   Offense  Defense  Sp. Tms  \n",
       "0    14.47     0.12    -3.63  \n",
       "1    21.16   -12.70    -2.30  \n",
       "2    17.83   -19.86     6.79  \n",
       "3    16.49    -7.20    -1.37  \n",
       "4     1.55   -24.29    -0.82  "
      ]
     },
     "execution_count": 24,
     "metadata": {},
     "output_type": "execute_result"
    }
   ],
   "source": [
    "new = np.where(predict2 == 1, 'W', predict2)\n",
    "newer = np.where(new == '0', 'L', new)\n",
    "\n",
    "df_2020['Prediction'] = pd.Series(newer)\n",
    "df_2020 = df_2020.reindex(columns = ['Team', 'Week', 'Result', 'Prediction', 'Opp', 'Tm', 'Opp.1', '1stD', 'TotYd', \n",
    "                           'PassY', 'RushY', 'TO', '1stD.1', 'TotYd.1', 'PassY.1', 'RushY.1', 'TO.1', \n",
    "                           'Offense','Defense', 'Sp. Tms'])\n",
    "for i in range(len(df_2020['Result'])):\n",
    "    if df_2020['Result'].iloc[i] == 1:\n",
    "        df_2020['Result'].iloc[i] = 'W'\n",
    "    if df_2020['Result'].iloc[i] == 0:\n",
    "        df_2020['Result'].iloc[i] = 'L'\n",
    "df_2020.head()"
   ]
  },
  {
   "cell_type": "markdown",
   "metadata": {
    "slideshow": {
     "slide_type": "-"
    }
   },
   "source": [
    "Here we wanted to add our prediction into the dataframe and comapre it with all of the other data just to see where our predictions lined up with the actual results."
   ]
  },
  {
   "cell_type": "markdown",
   "metadata": {},
   "source": [
    "Out of curiosity, we wanted to see if we could possibly eliminate some stats that we use in our model. We were thinking it might be possible that some features might be unnecessary. So below we created a pca model to see if we would experience some diminishing returns as the number of components would increase in our model."
   ]
  },
  {
   "cell_type": "code",
   "execution_count": 25,
   "metadata": {},
   "outputs": [],
   "source": [
    "def check_pca(n_components, x_train, x_test, y_train, y_test):\n",
    "    pca = PCA(n_components=n_components, whiten=True)\n",
    "    _ = pca.fit(x_train)\n",
    "    pca_x_train = pca.transform(x_train)\n",
    "    pca_x_test = pca.transform(x_test)\n",
    "    param_grid = {'C': [1, 10, 100, 1000],\n",
    "              'gamma': [1e-4,1e-3, .01,0.1 ],\n",
    "             'kernel': ['linear', 'rbf']}\n",
    "    model=GridSearchCV(SVC(),param_grid)\n",
    "    model=model.fit(pca_x_train, y_train)\n",
    "    print(model.best_estimator_)\n",
    "    pred_vals=model.predict(pca_x_test)\n",
    "    accuracy= accuracy_score(y_test, pred_vals)\n",
    "    return accuracy\n"
   ]
  },
  {
   "cell_type": "code",
   "execution_count": 26,
   "metadata": {
    "scrolled": true
   },
   "outputs": [
    {
     "name": "stderr",
     "output_type": "stream",
     "text": [
      "/opt/anaconda3/lib/python3.7/site-packages/sklearn/model_selection/_split.py:1978: FutureWarning: The default value of cv will change from 3 to 5 in version 0.22. Specify it explicitly to silence this warning.\n",
      "  warnings.warn(CV_WARNING, FutureWarning)\n"
     ]
    },
    {
     "name": "stdout",
     "output_type": "stream",
     "text": [
      "SVC(C=1, cache_size=200, class_weight=None, coef0=0.0,\n",
      "    decision_function_shape='ovr', degree=3, gamma=0.01, kernel='rbf',\n",
      "    max_iter=-1, probability=False, random_state=None, shrinking=True,\n",
      "    tol=0.001, verbose=False)\n"
     ]
    },
    {
     "name": "stderr",
     "output_type": "stream",
     "text": [
      "/opt/anaconda3/lib/python3.7/site-packages/sklearn/model_selection/_split.py:1978: FutureWarning: The default value of cv will change from 3 to 5 in version 0.22. Specify it explicitly to silence this warning.\n",
      "  warnings.warn(CV_WARNING, FutureWarning)\n",
      "/opt/anaconda3/lib/python3.7/site-packages/sklearn/model_selection/_search.py:814: DeprecationWarning: The default of the `iid` parameter will change from True to False in version 0.22 and will be removed in 0.24. This will change numeric results when test-set sizes are unequal.\n",
      "  DeprecationWarning)\n",
      "/opt/anaconda3/lib/python3.7/site-packages/sklearn/model_selection/_split.py:1978: FutureWarning: The default value of cv will change from 3 to 5 in version 0.22. Specify it explicitly to silence this warning.\n",
      "  warnings.warn(CV_WARNING, FutureWarning)\n"
     ]
    },
    {
     "name": "stdout",
     "output_type": "stream",
     "text": [
      "SVC(C=1, cache_size=200, class_weight=None, coef0=0.0,\n",
      "    decision_function_shape='ovr', degree=3, gamma=0.0001, kernel='linear',\n",
      "    max_iter=-1, probability=False, random_state=None, shrinking=True,\n",
      "    tol=0.001, verbose=False)\n"
     ]
    },
    {
     "name": "stderr",
     "output_type": "stream",
     "text": [
      "/opt/anaconda3/lib/python3.7/site-packages/sklearn/model_selection/_search.py:814: DeprecationWarning: The default of the `iid` parameter will change from True to False in version 0.22 and will be removed in 0.24. This will change numeric results when test-set sizes are unequal.\n",
      "  DeprecationWarning)\n",
      "/opt/anaconda3/lib/python3.7/site-packages/sklearn/model_selection/_split.py:1978: FutureWarning: The default value of cv will change from 3 to 5 in version 0.22. Specify it explicitly to silence this warning.\n",
      "  warnings.warn(CV_WARNING, FutureWarning)\n"
     ]
    },
    {
     "name": "stdout",
     "output_type": "stream",
     "text": [
      "SVC(C=1000, cache_size=200, class_weight=None, coef0=0.0,\n",
      "    decision_function_shape='ovr', degree=3, gamma=0.001, kernel='rbf',\n",
      "    max_iter=-1, probability=False, random_state=None, shrinking=True,\n",
      "    tol=0.001, verbose=False)\n"
     ]
    },
    {
     "name": "stderr",
     "output_type": "stream",
     "text": [
      "/opt/anaconda3/lib/python3.7/site-packages/sklearn/model_selection/_search.py:814: DeprecationWarning: The default of the `iid` parameter will change from True to False in version 0.22 and will be removed in 0.24. This will change numeric results when test-set sizes are unequal.\n",
      "  DeprecationWarning)\n",
      "/opt/anaconda3/lib/python3.7/site-packages/sklearn/model_selection/_split.py:1978: FutureWarning: The default value of cv will change from 3 to 5 in version 0.22. Specify it explicitly to silence this warning.\n",
      "  warnings.warn(CV_WARNING, FutureWarning)\n"
     ]
    },
    {
     "name": "stdout",
     "output_type": "stream",
     "text": [
      "SVC(C=10, cache_size=200, class_weight=None, coef0=0.0,\n",
      "    decision_function_shape='ovr', degree=3, gamma=0.0001, kernel='linear',\n",
      "    max_iter=-1, probability=False, random_state=None, shrinking=True,\n",
      "    tol=0.001, verbose=False)\n",
      "SVC(C=100, cache_size=200, class_weight=None, coef0=0.0,\n",
      "    decision_function_shape='ovr', degree=3, gamma=0.0001, kernel='linear',\n",
      "    max_iter=-1, probability=False, random_state=None, shrinking=True,\n",
      "    tol=0.001, verbose=False)\n"
     ]
    },
    {
     "name": "stderr",
     "output_type": "stream",
     "text": [
      "/opt/anaconda3/lib/python3.7/site-packages/sklearn/model_selection/_split.py:1978: FutureWarning: The default value of cv will change from 3 to 5 in version 0.22. Specify it explicitly to silence this warning.\n",
      "  warnings.warn(CV_WARNING, FutureWarning)\n",
      "/opt/anaconda3/lib/python3.7/site-packages/sklearn/model_selection/_search.py:814: DeprecationWarning: The default of the `iid` parameter will change from True to False in version 0.22 and will be removed in 0.24. This will change numeric results when test-set sizes are unequal.\n",
      "  DeprecationWarning)\n",
      "/opt/anaconda3/lib/python3.7/site-packages/sklearn/model_selection/_split.py:1978: FutureWarning: The default value of cv will change from 3 to 5 in version 0.22. Specify it explicitly to silence this warning.\n",
      "  warnings.warn(CV_WARNING, FutureWarning)\n"
     ]
    },
    {
     "name": "stdout",
     "output_type": "stream",
     "text": [
      "SVC(C=10, cache_size=200, class_weight=None, coef0=0.0,\n",
      "    decision_function_shape='ovr', degree=3, gamma=0.0001, kernel='linear',\n",
      "    max_iter=-1, probability=False, random_state=None, shrinking=True,\n",
      "    tol=0.001, verbose=False)\n",
      "SVC(C=1, cache_size=200, class_weight=None, coef0=0.0,\n",
      "    decision_function_shape='ovr', degree=3, gamma=0.0001, kernel='linear',\n",
      "    max_iter=-1, probability=False, random_state=None, shrinking=True,\n",
      "    tol=0.001, verbose=False)\n"
     ]
    },
    {
     "name": "stderr",
     "output_type": "stream",
     "text": [
      "/opt/anaconda3/lib/python3.7/site-packages/sklearn/model_selection/_split.py:1978: FutureWarning: The default value of cv will change from 3 to 5 in version 0.22. Specify it explicitly to silence this warning.\n",
      "  warnings.warn(CV_WARNING, FutureWarning)\n"
     ]
    },
    {
     "name": "stdout",
     "output_type": "stream",
     "text": [
      "SVC(C=1, cache_size=200, class_weight=None, coef0=0.0,\n",
      "    decision_function_shape='ovr', degree=3, gamma=0.0001, kernel='linear',\n",
      "    max_iter=-1, probability=False, random_state=None, shrinking=True,\n",
      "    tol=0.001, verbose=False)\n"
     ]
    },
    {
     "name": "stderr",
     "output_type": "stream",
     "text": [
      "/opt/anaconda3/lib/python3.7/site-packages/sklearn/model_selection/_split.py:1978: FutureWarning: The default value of cv will change from 3 to 5 in version 0.22. Specify it explicitly to silence this warning.\n",
      "  warnings.warn(CV_WARNING, FutureWarning)\n"
     ]
    },
    {
     "name": "stdout",
     "output_type": "stream",
     "text": [
      "SVC(C=1, cache_size=200, class_weight=None, coef0=0.0,\n",
      "    decision_function_shape='ovr', degree=3, gamma=0.0001, kernel='linear',\n",
      "    max_iter=-1, probability=False, random_state=None, shrinking=True,\n",
      "    tol=0.001, verbose=False)\n"
     ]
    },
    {
     "name": "stderr",
     "output_type": "stream",
     "text": [
      "/opt/anaconda3/lib/python3.7/site-packages/sklearn/model_selection/_split.py:1978: FutureWarning: The default value of cv will change from 3 to 5 in version 0.22. Specify it explicitly to silence this warning.\n",
      "  warnings.warn(CV_WARNING, FutureWarning)\n",
      "/opt/anaconda3/lib/python3.7/site-packages/sklearn/model_selection/_search.py:814: DeprecationWarning: The default of the `iid` parameter will change from True to False in version 0.22 and will be removed in 0.24. This will change numeric results when test-set sizes are unequal.\n",
      "  DeprecationWarning)\n",
      "/opt/anaconda3/lib/python3.7/site-packages/sklearn/model_selection/_split.py:1978: FutureWarning: The default value of cv will change from 3 to 5 in version 0.22. Specify it explicitly to silence this warning.\n",
      "  warnings.warn(CV_WARNING, FutureWarning)\n"
     ]
    },
    {
     "name": "stdout",
     "output_type": "stream",
     "text": [
      "SVC(C=100, cache_size=200, class_weight=None, coef0=0.0,\n",
      "    decision_function_shape='ovr', degree=3, gamma=0.0001, kernel='linear',\n",
      "    max_iter=-1, probability=False, random_state=None, shrinking=True,\n",
      "    tol=0.001, verbose=False)\n"
     ]
    },
    {
     "name": "stderr",
     "output_type": "stream",
     "text": [
      "/opt/anaconda3/lib/python3.7/site-packages/sklearn/model_selection/_search.py:814: DeprecationWarning: The default of the `iid` parameter will change from True to False in version 0.22 and will be removed in 0.24. This will change numeric results when test-set sizes are unequal.\n",
      "  DeprecationWarning)\n",
      "/opt/anaconda3/lib/python3.7/site-packages/sklearn/model_selection/_split.py:1978: FutureWarning: The default value of cv will change from 3 to 5 in version 0.22. Specify it explicitly to silence this warning.\n",
      "  warnings.warn(CV_WARNING, FutureWarning)\n"
     ]
    },
    {
     "name": "stdout",
     "output_type": "stream",
     "text": [
      "SVC(C=100, cache_size=200, class_weight=None, coef0=0.0,\n",
      "    decision_function_shape='ovr', degree=3, gamma=0.001, kernel='rbf',\n",
      "    max_iter=-1, probability=False, random_state=None, shrinking=True,\n",
      "    tol=0.001, verbose=False)\n"
     ]
    },
    {
     "name": "stderr",
     "output_type": "stream",
     "text": [
      "/opt/anaconda3/lib/python3.7/site-packages/sklearn/model_selection/_search.py:814: DeprecationWarning: The default of the `iid` parameter will change from True to False in version 0.22 and will be removed in 0.24. This will change numeric results when test-set sizes are unequal.\n",
      "  DeprecationWarning)\n",
      "/opt/anaconda3/lib/python3.7/site-packages/sklearn/model_selection/_split.py:1978: FutureWarning: The default value of cv will change from 3 to 5 in version 0.22. Specify it explicitly to silence this warning.\n",
      "  warnings.warn(CV_WARNING, FutureWarning)\n"
     ]
    },
    {
     "name": "stdout",
     "output_type": "stream",
     "text": [
      "SVC(C=100, cache_size=200, class_weight=None, coef0=0.0,\n",
      "    decision_function_shape='ovr', degree=3, gamma=0.001, kernel='rbf',\n",
      "    max_iter=-1, probability=False, random_state=None, shrinking=True,\n",
      "    tol=0.001, verbose=False)\n",
      "SVC(C=1, cache_size=200, class_weight=None, coef0=0.0,\n",
      "    decision_function_shape='ovr', degree=3, gamma=0.0001, kernel='linear',\n",
      "    max_iter=-1, probability=False, random_state=None, shrinking=True,\n",
      "    tol=0.001, verbose=False)\n"
     ]
    },
    {
     "name": "stderr",
     "output_type": "stream",
     "text": [
      "/opt/anaconda3/lib/python3.7/site-packages/sklearn/model_selection/_search.py:814: DeprecationWarning: The default of the `iid` parameter will change from True to False in version 0.22 and will be removed in 0.24. This will change numeric results when test-set sizes are unequal.\n",
      "  DeprecationWarning)\n"
     ]
    },
    {
     "data": {
      "text/plain": [
       "[0.71875,\n",
       " 0.7265625,\n",
       " 0.78125,\n",
       " 0.8046875,\n",
       " 0.8125,\n",
       " 0.8203125,\n",
       " 0.84375,\n",
       " 0.875,\n",
       " 0.890625,\n",
       " 0.8828125,\n",
       " 0.9765625,\n",
       " 0.96875,\n",
       " 0.984375]"
      ]
     },
     "execution_count": 26,
     "metadata": {},
     "output_type": "execute_result"
    },
    {
     "data": {
      "image/png": "[encoded data removed]",
      "text/plain": [
       "<Figure size 432x288 with 1 Axes>"
      ]
     },
     "metadata": {
      "needs_background": "light"
     },
     "output_type": "display_data"
    }
   ],
   "source": [
    "accuracy_scores=[]\n",
    "for i in range(1,14):\n",
    "    score=check_pca(i, new_x_train, new_x_test, new_y_train, new_y_test)\n",
    "    accuracy_scores.append(score)\n",
    "components=[]\n",
    "for i in range(1,14):\n",
    "    components.append(i)\n",
    "plt.plot(components, accuracy_scores)\n",
    "plt.xlabel('Component Number')\n",
    "plt.ylabel('Accuracy Score')\n",
    "accuracy_scores"
   ]
  },
  {
   "cell_type": "markdown",
   "metadata": {},
   "source": [
    "Based on our findings from the gridsearch and using our PCA model, it appears that there really are not any diminishing returns in terms of the number of features we use to dictate our accuracy scores. So in order to have the most accurate model possible it looks like we will need to include every stat available to us in our dataframe."
   ]
  },
  {
   "cell_type": "markdown",
   "metadata": {
    "slideshow": {
     "slide_type": "-"
    }
   },
   "source": [
    "# The End"
   ]
  }
 ],
 "metadata": {
  "colab": {
   "collapsed_sections": [],
   "name": "CMSE202-Project.ipynb",
   "provenance": []
  },
  "kernelspec": {
   "display_name": "Python 3",
   "language": "python",
   "name": "python3"
  },
  "language_info": {
   "codemirror_mode": {
    "name": "ipython",
    "version": 3
   },
   "file_extension": ".py",
   "mimetype": "text/x-python",
   "name": "python",
   "nbconvert_exporter": "python",
   "pygments_lexer": "ipython3",
   "version": "3.7.4"
  }
 },
 "nbformat": 4,
 "nbformat_minor": 1
}

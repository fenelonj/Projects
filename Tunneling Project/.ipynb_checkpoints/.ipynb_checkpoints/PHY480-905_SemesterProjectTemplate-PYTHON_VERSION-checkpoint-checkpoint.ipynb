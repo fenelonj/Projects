{
 "cells": [
  {
   "cell_type": "markdown",
   "metadata": {},
   "source": [
    "# PHY480/905 Semester Project Template"
   ]
  },
  {
   "cell_type": "markdown",
   "metadata": {},
   "source": [
    "**INSTRUCTIONS**: This is a template to help organize your project.  All projects must include the 5 major sections below (you do not need to use this template file).  Complete your work below and remove content in parentheses. "
   ]
  },
  {
   "cell_type": "markdown",
   "metadata": {},
   "source": [
    "#### PHY 480/905 Semester Project\n",
    "### &#9989; Jack Fenelon\n",
    "\n",
    "#### &#9989; Last Updated on 04-29-2022"
   ]
  },
  {
   "cell_type": "markdown",
   "metadata": {},
   "source": [
    "# ___Computational Methods & Quantum Tunneling___"
   ]
  },
  {
   "cell_type": "markdown",
   "metadata": {},
   "source": [
    "##  Introduction "
   ]
  },
  {
   "cell_type": "markdown",
   "metadata": {},
   "source": [
    "\n",
    "___\n",
    "\n",
    "In classical physics, a particle with insufficient energy cannot penetrate through a potenetial barrier, classical mechanics does not allow for it to occur and it is not observed to occur. Quantum mechanics, and therefore small subatomic particles, do not obey the laws of classical mechanics, they obey the laws of classical mechanics and hence we need a new formula to model their behavior. The Schrödinger equation is what is used to model the probability density of finding a particle in a specific region of space. One of the most counter intuitive and unique consequences of the Schrödinger equation is quantum tunneling, where a particle with insufficient energy can penetrate through with probability greater than zero. \n",
    "\n",
    "So the questions I look to answer in this project are as follows:\n",
    "* How does the tunneling effect change as a function of barrier width?\n",
    "* How does it change a function of particle energy relative to barrier energy?"
   ]
  },
  {
   "cell_type": "markdown",
   "metadata": {},
   "source": [
    "## Methodology"
   ]
  },
  {
   "cell_type": "markdown",
   "metadata": {},
   "source": [
    "\n",
    "___\n",
    "\n",
    "### Motivation: Schrödinger Equation & the Square Box Potential\n",
    "\n",
    "For the time-indpendent case, the Schrödinger Equation yields us that for some wavefunction $\\psi(x)$ and potential $V(x)$, then the following relationship holds:\n",
    "\n",
    "$$ -\\frac{\\hbar^2}{2m}\\frac{d^2}{dx^2}\\psi(x) + V(x)\\psi(x) = E\\psi(x) $$\n",
    "\n",
    "Where $E$, $m$ is the  is the energy eigenvalues of $\\psi$. We can rearrange the expression and see that:\n",
    "\n",
    "$$ \\frac{d^2}{dx^2}\\psi(x) = -\\frac{2m}{\\hbar^2}(E-V(x))\\psi(x) = \\frac{2m}{\\hbar^2}(V(x) - E)\\psi(x)$$\n",
    "\n",
    "We want to establish what the potential is so we can set up some initial conditions and go ahead and solve the equation, so lets say that:\n",
    "\n",
    "$$ V(x) = \\begin{cases} 0 & \\text{ if } &  x < 0 \\\\ V_0 & \\text{ if } & 0 \\leq x \\leq a \\\\ 0 & \\text{ if} & x > a\\end{cases}$$\n",
    "\n",
    "Where $V_0$ and $a$ are arbitrary with $V_0 > E$. This is what is commonly reffered to as a rectangular potential barrier, an idealized problem with some real world applications. Now we can essentially look at this as solving three seperate ODEs, one where $x < 0$, one where $0 \\leq x \\leq a$, and one where $x > a$. We will denote the region where $x < a$ as region $A$, the region where $0 \\leq x \\leq a$ as region $B$, and the region $x > a$ as region $C$. Our boundary conditions that $\\psi$ must obey are that:\n",
    "\n",
    "$$ \\begin{cases} \\psi_A(0) = \\psi_B(0) \\\\ \\frac{d\\psi_A}{dx} \\bigg\\rvert_{x=0} = \\frac{d\\psi_B}{dx} \\bigg\\rvert_{x=0}\\\\ \\psi_B(a) = \\psi_C(a) \\\\ \\frac{d\\psi_B}{dx} \\bigg\\rvert_{x=a} = \\frac{d\\psi_C}{dx} \\bigg\\rvert_{x=a} \\end{cases}$$\n",
    "\n",
    "Now that we have our boundary conditions, lets begin by looking at region $A$. In region $A$, $V(x) = 0$, so:\n",
    "\n",
    "$$ \\frac{d^2}{dx^2}\\psi(x) = \\frac{2m}{\\hbar^2}(V(x) - E)\\psi(x) = \\frac{-2mE}{\\hbar^2}\\psi(x)$$\n",
    "\n",
    "For simplicity, we can go ahead and make a substitution by setting $\\frac{2mE}{\\hbar^2} = k_A^2$, so in region $A$ our equation becomes:\n",
    "\n",
    "$$ \\frac{d^2}{dx^2}\\psi(x) = -k_A^2\\psi(x)$$\n",
    "\n",
    "And this is just a simple second order ODE that we can find an analytical expression for by solving for the roots of the characteristic equation to find our general solution. Doing so we get:\n",
    "\n",
    "$$ \\frac{d^2}{dx^2}\\psi(x) = -k_A^2\\psi(x) \\rightarrow \\frac{d^2}{dx^2}\\psi(x) + k_A^2\\psi(x) = 0 \\\\ \\lambda^2 + k_A^2 = 0 \\\\ \\lambda = \\pm ik_A$$\n",
    "\n",
    "So our eigenvalues for this second order ODE are $\\pm ik_A$ where $i$ is the imaginary unit. So our general solution then in region A is:\n",
    "\n",
    "$$ \\psi_A(x) = A_1e^{ik_Ax} + A_2e^{-ik_Ax} \\\\ = A_1e^{i\\frac{\\sqrt{2mE}}{\\hbar}x} + A_2e^{-i\\frac{\\sqrt{2mE}}{\\hbar}x}$$\n",
    "\n",
    "Thus region $A$ is solved for, now lets move on to region $B$, here $V(x) \\neq 0 $ so we will get a different form of a solution than we did for region $A$. In region $B$, $V(x) = V_0$ so our ODE is:\n",
    "\n",
    "$$ \\frac{d^2}{dx^2}\\psi(x) = \\frac{2m}{\\hbar^2}(V(x) - E)\\psi(x) = \\frac{2m}{\\hbar^2}(V_0 - E)\\psi(x)$$\n",
    "\n",
    "For simplicity, we'll call $k_B^2 = \\frac{2m(V_0 - E)}{\\hbar^2}$ so we can substitute that into our expression and carry out the same process as we did in A to find the eigenvalues and the general solution in region $B$.\n",
    "\n",
    "$$ \\frac{d^2}{dx^2}\\psi(x) = k_B^2\\psi(x) \\rightarrow \\lambda^2 - k_B^2 = 0 \\\\ \\lambda = \\pm k_B$$ \n",
    "\n",
    "So now we can use the eigenvalues and get an expression for our general solution.\n",
    "\n",
    "$$\\psi_B(x) = B_1e^{k_Bx} + B_2e^{-k_Bx} \\\\ = B_1e^{\\sqrt{\\frac{2m(V_0 - E)}{\\hbar^2}}x} + B_2e^{-\\sqrt{\\frac{2m(V_0 - E)}{\\hbar^2}}x}$$\n",
    "\n",
    "Region $C$ will have exactly the same general solution as we had in region $A$ only with different coefficients. \n",
    "\n",
    "$$ \\psi_C(x) = C_1e^{i\\frac{\\sqrt{2mE}}{\\hbar}x} + C_2e^{-i\\frac{\\sqrt{2mE}}{\\hbar}x} $$\n",
    "\n",
    "So all together we have: \n",
    "\n",
    "$$ \\psi(x) = \\begin{cases} A_1e^{i\\frac{\\sqrt{2mE}}{\\hbar}x} + A_2e^{-i\\frac{\\sqrt{2mE}}{\\hbar}x} & \\text{for} & x < 0 \\\\ B_1e^{\\sqrt{\\frac{2m(V_0 - E)}{\\hbar^2}}x} + B_2e^{-\\sqrt{\\frac{2m(V_0 - E)}{\\hbar^2}}x} & \\text{for} & 0 \\leq x \\leq a \\\\ C_1e^{i\\frac{\\sqrt{2mE}}{\\hbar}x} + C_2e^{-i\\frac{\\sqrt{2mE}}{\\hbar}x} & \\text{for} & x > a \\end{cases}$$\n",
    "\n",
    "These are reasonable expressions, since there is no potential barrier in regions $A$ and $C$ we would expect (I use this term loosely when dealing with quantum mechanics) for the particle to be able to move freely in oscillatory fashion and when the particle hits the barrier there is to be a type of decay going on where the expectation of finding the particle in that region of space declines exponentially. \n",
    "\n",
    "Now since we are only dealing with one particle and we are also assuming that the particle is moving along in the positive x direction, we don't expect there to be another particle let alone one to be coming in the reverse direction in region $C$, so we can go ahead set $C_2 = 0$. And looking at our piecewise equations for $\\psi(x)$, $A_1$ represents the initial movement of the particle, $A_2$ represents the reflected coefficient ie. if the particle hits the barrier $V_0$ and reflects backward, and the coefficient $C_1$ represents the tunneling coefficient, which is the main coefficient and topic of interest in this project.\n",
    "\n",
    "By deriving expressions for each coefficient and labeling the tunneling probability $T = \\frac{|C_1|^2}{|A_1|^2}$ we find that the expression is (Full derivation can be found in the appendix):\n",
    "\n",
    "$$ T = \\frac{1}{1+\\frac{V_0^2}{4E(V_0-E)}\\sinh^2{(\\frac{a}{\\hbar}\\sqrt{2m(V_0-E)}})}$$\n",
    "\n",
    "This will serve as a guide to verify the results.\n",
    "\n",
    "###### Note: This expression for $T$ is only valid for when $E < V_0$ so this formula will not be used in the case where $E = V_0$ or $E > V_0$\n",
    "___\n",
    "\n",
    "### Numerical Approach to the Square Box Potential Problem\n",
    "\n",
    "Now, numerically we can save ourselves a lot of the trouble by discretizing our derivative operators through the use of finite-difference methods (which appeared on a homework in this class however I don't think was every formally introduced as such) as well as using linear algebra methods to find the eigenvalues of our hamiltonian matrix.\n",
    "\n",
    "Firstly, when we see the expression, $\\frac{\\partial^2\\psi}{\\partial x^2}$, we can use what is called a finite difference method to approximate our second derivative for $\\psi$, in this project I will use the second-order accurate central difference method where:\n",
    "\n",
    "$$ \\frac{\\partial^2\\psi}{\\partial x^2} = \\frac{\\psi_{i+1} - 2\\psi_i + \\psi_{i-1}}{h^2}$$\n",
    "\n",
    "So using this fact, we can construct a square matrix ($n \\times n$) operator that will act on our column vector $\\psi$ that will have the form:\n",
    "\n",
    "$$ \\frac{\\partial^2}{\\partial x^2} =  \\frac{1}{h^2}\\begin{bmatrix} \n",
    "-2 & 1 & 0 & \\ddots & & & 0 \\\\\n",
    "1 & -2 & 1 & 0 & \\ddots & & 0 \\\\\n",
    "0 & 1 & -2 & 1 & 0 & \\ddots & \\vdots \\\\\n",
    "\\vdots & 0 & \\ddots & & \\ddots & \\ddots & \\\\\n",
    "& & \\ddots & & & \\\\\n",
    "0 & \\dots & & 0 & 1 & -2 & 1 \\\\\n",
    "0 & \\dots & & & 0 & 1 & -2\n",
    "\\end{bmatrix}$$\n",
    "\n",
    "And then our potential $V(x)$ can just be written as a square ($n \\times n$)diaganol matrix operating on our wavefunction $\\psi$ as well. And it will have the form:\n",
    "\n",
    "$$ V(x) =  \\begin{bmatrix} \n",
    "V_1 & 0 & 0 & \\ddots & & & 0 \\\\\n",
    "0 & V_2 & 0 & 0 & \\ddots & & 0 \\\\\n",
    "0 & 0 & V_3 & 0 & 0 & \\ddots & \\vdots \\\\\n",
    "\\vdots & 0 & \\ddots & & \\ddots & \\ddots & \\\\\n",
    "& & \\ddots & & & \\\\\n",
    "0 & \\dots & & 0 & 0 & V_{n-1} & 0 \\\\\n",
    "0 & \\dots & & & 0 & 0 & V_n\n",
    "\\end{bmatrix}$$\n",
    "\n",
    "Now we have transformed the operators in the Schrödinger equation into matrices, so our transformed expression will have the form:\n",
    "\n",
    "$$ \\frac{-\\hbar^2}{2m}\\frac{1}{h^2}\\begin{bmatrix} -2 & 1 & 0 & \\ddots & & & 0 \\\\ 1 & -2 & 1 & 0 & \\ddots & & 0 \\\\\n",
    "0 & 1 & -2 & 1 & 0 & \\ddots & \\vdots \\\\ \\vdots & 0 & \\ddots & & \\ddots & \\ddots & \\\\ & & \\ddots & & & \\\\ 0 & \\dots & & 0 & 1 & -2 & 1 \\\\ 0 & \\dots & & & 0 & 1 & -2 \\end{bmatrix}\\psi(x) + \\begin{bmatrix} V_1 & 0 & 0 & \\ddots & & & 0 \\\\0 & V_2 & 0 & 0 & \\ddots & & 0 \\\\0 & 0 & V_3 & 0 & 0 & \\ddots & \\vdots \\\\\\vdots & 0 & \\ddots & & \\ddots & \\ddots & \\\\& & \\ddots & & & \\\\0 & \\dots & & 0 & 0 & V_{n-1} & 0 \\\\0 & \\dots & & & 0 & 0 & V_n\\end{bmatrix}\\psi(x) =  E\\psi(x)$$\n",
    "\n",
    "Where $\\psi$ is a column vector. Now $E$ is also a matrix since it is the eigenvalues of the Hamiltonian. Our Hamiltonian Matrix in this case is the sum of our Kinetic Energy and Potential Energy Matrices, which are the discretized second derivative matrix and diaganol potential matrix resprectively, ie.\n",
    "\n",
    "$$ \\hat{H} = \\begin{bmatrix} \n",
    "\\frac{2\\hbar^2}{2mh^2} + V_1 & \\frac{-\\hbar^2}{2mh^2} & 0 & \\ddots & & & 0 \\\\\n",
    "\\frac{-\\hbar^2}{2mh^2} & \\frac{2\\hbar^2}{2mh^2} + V_2 & \\frac{-\\hbar^2}{2mh^2} & 0 & \\ddots & & 0 \\\\\n",
    "0 & \\frac{-\\hbar^2}{2mh^2} & \\frac{2\\hbar^2}{2mh^2} + V_3 & \\frac{-\\hbar^2}{2mh^2} & 0 & \\ddots & \\vdots \\\\\n",
    "\\vdots & 0 & \\ddots & & \\ddots & \\ddots & \\\\\n",
    "& & \\ddots & & & \\\\\n",
    "0 & \\dots & & 0 & \\frac{-\\hbar^2}{2mh^2} & \\frac{2\\hbar^2}{2mh^2} + V_{n-1} & \\frac{-\\hbar^2}{2mh^2} \\\\\n",
    "0 & \\dots & & & 0 & \\frac{-\\hbar^2}{2mh^2} & \\frac{2\\hbar^2}{2mh^2} + V_{n}\n",
    "\\end{bmatrix}$$\n",
    "\n",
    "Most of our values for $V$ will be 0, since we are assuming that this potential barrier is localized in only one area, therefore making the rest of the area free space for the particle to move. So only somewhere in the middle of the $n \\times n$ matrix will the values $V$ be nonzero.\n",
    "\n",
    "For the time-dependent case, we know the Schrödinger equation says:\n",
    "\n",
    "$$ i\\hbar\\frac{\\partial\\psi}{\\partial t} = \\hat{H}\\psi$$\n",
    "\n",
    "Similar to what we did with the second derivative operator in the hamiltonian, we can do the same with the first derivative with respect to time operator by using the approximation that:\n",
    "\n",
    "$$ \\frac{\\partial\\psi}{\\partial t} \\approx \\frac{\\psi(x, t+\\Delta t) - \\psi(x,t)}{\\Delta t}$$\n",
    "\n",
    "We can then go ahead and solve this above expression for $\\psi(x, t+\\Delta t)$ by plugging it back into the Schrödinger Equation and simplifying which looks like:\n",
    "\n",
    "$$ i\\hbar\\frac{\\psi(x, t+\\Delta t) - \\psi(x,t)}{\\Delta t} \\approx \\hat{H}\\psi(x,t) $$\n",
    "$$ \\psi(x, t+\\Delta t) - \\psi(x,t) \\approx -\\frac{i\\Delta t}{\\hbar}\\hat{H}\\psi(x,t) $$\n",
    "$$ \\psi(x, t+\\Delta t) \\approx \\psi(x,t) -\\frac{i\\Delta t}{\\hbar}\\hat{H}\\psi(x,t) $$\n",
    "\n",
    "Since $\\Delta t$ is small, we can also say that:\n",
    "\n",
    "$$i\\hbar\\frac{\\psi(x, t+\\Delta t) - \\psi(x,t)}{\\Delta t} = \\hat{H}\\psi(x,t+\\Delta t)$$\n",
    "\n",
    "Combining these two facts we can say that:\n",
    "\n",
    "$$ 2i\\hbar\\frac{\\psi(x, t+\\Delta t) - \\psi(x,t)}{\\Delta t} = \\hat{H}\\psi(x, t+\\Delta t) + \\hat{H}\\psi(x, t) $$\n",
    "$$ \\frac{\\psi(x, t+\\Delta t) - \\psi(x,t)}{\\Delta t} = -\\frac{\\hbar i}{2}(\\hat{H}\\psi(x, t+\\Delta t) + \\hat{H}\\psi(x, t))$$\n",
    "$$ \\psi(x, t+\\Delta t) + \\frac{\\hbar i \\Delta t}{2}\\hat{H}\\psi(x, t+\\Delta t) = \\psi(x,t) - \\frac{\\hbar i \\Delta t}{2}\\hat{H}\\psi(x, t)$$\n",
    "$$ (\\hat{I}+\\frac{\\hbar i \\Delta t}{2}\\hat{H})\\psi(x, t+\\Delta t) = (\\hat{I}-\\frac{\\hbar i \\Delta t}{2}\\hat{H})\\psi(x, t)$$\n",
    "\n",
    "Where $\\hat{I}$ is the identity matrix. Then finally by multplying by the inverse matrix on the left hand side we can get:\n",
    "\n",
    "$$ \\psi(x, t+\\Delta t) = (\\hat{I}+\\frac{\\hbar i \\Delta t}{2}\\hat{H})^{-1}(\\hat{I}-\\frac{\\hbar i \\Delta t}{2}\\hat{H})\\psi(x, t)$$\n",
    "\n",
    "Using a variety of default parameters, we can begin to implement equation (4) to help us solve/model the Schrödinger Equation. To do this, we will first initialize a Gaussian wave packet that will be moving in free space that will have the form: \n",
    "\n",
    "$$ \\psi(x,t=0) = \\frac{1}{\\sqrt{2\\sigma\\sqrt{\\pi}}}e^{-\\frac{(x-x_0)^2}{4\\sigma^2}}e^{ip_0x}$$\n",
    "\n",
    "Where $\\sigma$ is the width of the wave packet, $x_0$ is the initial position of the wave packet, and $p_0$ is the initial momentum of the wave packet which is calculated from the expression:\n",
    "\n",
    "$$ E = \\frac{p_0^2}{2m} \\rightarrow p_0 = \\sqrt{2mE}$$\n",
    "\n",
    "In this project, $\\sigma = 0.2$, $x_0 = -4$, and $V$ was held at a constant 100 eV and placed at the origin (x=0) and only E (and hence $p_0$) and the barrier width, a, were altered to exhibit different tunneling behaviors. The width of the barrier a is in units of Å and the x scale of each plot is in nm. E was varied as a fraction of the potential energy of the barrier V (e.g. $E = 0.25V$ , $E = 0.5V$, etc.). Each calculation for the position of the wave packet was done at steps of $\\Delta t = 0.001$. The Hamiltonian matrix $\\hat{H}$ was constructed to be size $n\\times n$ where $n = 250$.\n"
   ]
  },
  {
   "cell_type": "code",
   "execution_count": 1,
   "metadata": {},
   "outputs": [],
   "source": [
    "# imports and libraries that will be used\n",
    "import numpy as np\n",
    "import matplotlib.pyplot as plt\n",
    "import os\n",
    "import time\n",
    "from IPython.display import clear_output"
   ]
  },
  {
   "cell_type": "code",
   "execution_count": 2,
   "metadata": {},
   "outputs": [
    {
     "name": "stderr",
     "output_type": "stream",
     "text": [
      "/opt/anaconda3/lib/python3.7/site-packages/ipykernel_launcher.py:10: RuntimeWarning: divide by zero encountered in double_scalars\n",
      "  # Remove the CWD from sys.path while we load stuff.\n"
     ]
    },
    {
     "data": {
      "image/png": "[encoded data removed]",
      "text/plain": [
       "<Figure size 504x288 with 1 Axes>"
      ]
     },
     "metadata": {
      "needs_background": "light"
     },
     "output_type": "display_data"
    }
   ],
   "source": [
    "# defining the transmission coefficient to calculate the tunneling probability\n",
    "\n",
    "tunnel_folder = \"Tunnel-Folder\"                        # creating a path to save images\n",
    "if os.path.exists(tunnel_folder) == False:             # checking if a directory already exists\n",
    "    os.makedirs(tunnel_folder)                         # making the new directory if it does not exist\n",
    "\n",
    "# transmission coefficient function\n",
    "def Tunnel(a, V0, E):                              # input parameters are barrier potential, width, and particle energy\n",
    "    # a is in nm \n",
    "    P = 1/(1+V0**2/(4*E*(V0-E))*np.sinh(a*(2*(V0-E))**0.5)**2)# using the formula mentioned in the end of section 1 in methods\n",
    "    return P\n",
    "\n",
    "# constants/parameters\n",
    "V0 = 100                                               # intial potential energy in eV\n",
    "E = V0*np.arange(0,0.95,0.01)                          # array of particle energies from 0eV to 95eV\n",
    "a1 = 0.5                                               # barrier width is 5Å (0.5 nm)\n",
    "a2 = 0.1                                               # barrier width is 1Å (0.1 nm)\n",
    "a3 = 0.01                                              # barrier width is 0.1Å (0.01 nm)\n",
    "a4 = 0.05                                              # barrier width is 0.5Å (0.05 nm)\n",
    "\n",
    "# initial probability arrays\n",
    "P1 = np.zeros(len(E))\n",
    "P2 = np.zeros(len(E))\n",
    "P3 = np.zeros(len(E))\n",
    "P4 = np.zeros(len(E))\n",
    "\n",
    "# looping through the above parameters to calculate transmission probability curves\n",
    "for i in range(len(E)):\n",
    "    P1[i] = Tunnel(a1,V0,E[i])\n",
    "    P2[i] = Tunnel(a2,V0,E[i])\n",
    "    P3[i] = Tunnel(a3,V0,E[i])\n",
    "    P4[i] = Tunnel(a4,V0,E[i])\n",
    "\n",
    "image = \"Transmission_Probability.jpg\"\n",
    "\n",
    "# plotting all of the probability curves from above\n",
    "plt.figure(figsize=(7,4))\n",
    "plt.plot(E/V0,P1,label=\"Width = 5Å\")\n",
    "plt.plot(E/V0,P2,label=\"Width = 1Å\")\n",
    "plt.plot(E/V0,P3,label=\"Width = 0.1Å\")\n",
    "plt.plot(E/V0,P4,label=\"Width = 0.5Å\")\n",
    "plt.xlabel(\"E/V\")\n",
    "plt.ylabel(\"Probability of Transmission\")\n",
    "plt.title(\"Tunneling Probabilities as a Function of Energy\")\n",
    "plt.legend()\n",
    "# saving the figure, uncomment below if you want to save the generated plot\n",
    "plt.savefig(os.path.join(tunnel_folder,image));"
   ]
  },
  {
   "cell_type": "code",
   "execution_count": 3,
   "metadata": {},
   "outputs": [
    {
     "data": {
      "image/png": "[encoded data removed]",
      "text/plain": [
       "<Figure size 504x288 with 1 Axes>"
      ]
     },
     "metadata": {
      "needs_background": "light"
     },
     "output_type": "display_data"
    }
   ],
   "source": [
    "# same procedure as before now we are fixing 4 kinetic energies and changing the barrier width\n",
    "\n",
    "# initial parameters\n",
    "V0 = 100\n",
    "a = np.arange(0,1.5,0.01)              # array of barrier widths from 0 to 1.5nm\n",
    "E1 = 0.5*V0                            # fixed energy 1 is 0.5V0\n",
    "E2 = 0.25*V0                           # fixed energy 2 is 0.25V0\n",
    "E3 = 0.75*V0                           # fixed energy 3 is 0.75V0\n",
    "E4 = 0.95*V0                           # fixed energy 3 is 0.75V0\n",
    "\n",
    "# initial probability arrays\n",
    "P1 = np.zeros(len(a))\n",
    "P2 = np.zeros(len(a))\n",
    "P3 = np.zeros(len(a))\n",
    "P4 = np.zeros(len(a))\n",
    "\n",
    "# calculating all probability curves across all barrier widths\n",
    "for i in range(len(a)):\n",
    "    P1[i] = Tunnel(a[i],V0,E1)\n",
    "    P2[i] = Tunnel(a[i],V0,E2)\n",
    "    P3[i] = Tunnel(a[i],V0,E3)\n",
    "    P4[i] = Tunnel(a[i],V0,E4)\n",
    "\n",
    "# image file in the event you want to save the figure\n",
    "image = \"Transmission_Probability_widths.jpg\"\n",
    "\n",
    "# plotting all probability curves\n",
    "plt.figure(figsize=(7,4))\n",
    "plt.plot(a,P2,label=\"E = 0.25$V_0$\")\n",
    "plt.plot(a,P1,label=\"E = 0.5$V_0$\")\n",
    "plt.plot(a,P3,label=\"E = 0.75$V_0$\")\n",
    "plt.plot(a,P4,label=\"E = 0.95$V_0$\")\n",
    "plt.xlabel(\"Barrier Width [nm]\")\n",
    "plt.ylabel(\"Probability of Transmission\")\n",
    "plt.title(\"Tunneling Probabilities as a Function of Barrier Width\")\n",
    "plt.legend()\n",
    "# uncomment the line below to save the image\n",
    "plt.savefig(os.path.join(tunnel_folder,image));"
   ]
  },
  {
   "cell_type": "code",
   "execution_count": 4,
   "metadata": {
    "scrolled": false
   },
   "outputs": [],
   "source": [
    "# Kinetic Energy function\n",
    "def K(N):\n",
    "    # constants\n",
    "    hbar = 1.0\n",
    "    m = 1.0\n",
    "    # initializing our Kinetic energy matrix\n",
    "    KE = np.zeros((N,N))\n",
    "    for i in range(N):\n",
    "        for j in range(N):\n",
    "            if i == j:\n",
    "                KE[i,j] = -2*hbar**2/(2*m) # setting our diaganol entries equal to -2\n",
    "            if abs(i-j) == 1:\n",
    "                KE[i,j] = 1*hbar**2/(2*m) # setting our off-diaganol entries equal to 1\n",
    "    return KE \n",
    "\n",
    "# Potential Energy Function\n",
    "def V(N,V0,width):\n",
    "    # initializing our potential energy matrix\n",
    "    # w = width/2\n",
    "    U = np.zeros((N,N))\n",
    "    for i in range(N):\n",
    "        if i > N//2 and i < N//2+int(width*N):\n",
    "            U[i,i] = V0 # setting our diaganol entries in the center equal to the barrier potential\n",
    "    return U"
   ]
  },
  {
   "cell_type": "code",
   "execution_count": 5,
   "metadata": {},
   "outputs": [],
   "source": [
    "# constants\n",
    "pi = np.pi\n",
    "N = 500                 # length of the matrix\n",
    "x = np.linspace(-5,5,N) # values of x we will solve over\n",
    "h = x[2]-x[1]           # differential\n",
    "width = 0.01            # percent of the space we want the barrier to occupy\n",
    "V0 = 100.0              # barrier potential\n",
    "\n",
    "# constants for wave-packet\n",
    "sigma = 0.2             # width of the wave-packet\n",
    "E = V0*0.25             # initial energy of the wave-packet\n",
    "p0 = (2*E)**0.5         # initial momentum\n",
    "x0 = -4.0               # the center of our initial wave-packet\n",
    "C = 1/(sigma*(2*pi)**0.5) # normalization constant for the probability density when we square the wave function\n",
    "\n",
    "# initial gaussian wave-packet\n",
    "psi0 = C**0.5 * np.exp((-(x-x0)**2)/(4*sigma**2))* np.exp(1j*p0*x)\n",
    "\n",
    "# setting up our Hamiltonian\n",
    "T = K(N)                # kinetic energy\n",
    "U = V(N, V0, width)     # potential energy\n",
    "H = -1/h**2*T + U ;      # hamiltonian is the sum of kinetic and potential energies"
   ]
  },
  {
   "cell_type": "code",
   "execution_count": 6,
   "metadata": {},
   "outputs": [
    {
     "data": {
      "text/plain": [
       "<matplotlib.legend.Legend at 0x7fbf6d805c10>"
      ]
     },
     "execution_count": 6,
     "metadata": {},
     "output_type": "execute_result"
    },
    {
     "data": {
      "image/png": "[encoded data removed]",
      "text/plain": [
       "<Figure size 432x288 with 1 Axes>"
      ]
     },
     "metadata": {
      "needs_background": "light"
     },
     "output_type": "display_data"
    }
   ],
   "source": [
    "# plotting the wavefunction @ t=0\n",
    "\n",
    "# modulus of the wave packet squared (giving us the probability density)\n",
    "psi = np.abs(psi0)**2\n",
    "\n",
    "# getting an array for the potential\n",
    "barrier = np.zeros(N)\n",
    "for i in range(N):\n",
    "    if i > N//2 and i < N//2 + int(width*N):\n",
    "        barrier[i] = V0\n",
    "\n",
    "plt.plot(x, psi, label = \"$|\\psi(x,t=0)|^2$\")\n",
    "plt.plot(x, barrier, label = \"Potential Barrier\")\n",
    "plt.title(\"1D Wave Packet Centered at $x=-4$\")\n",
    "plt.ylim(-0.1,2.3)\n",
    "plt.legend()"
   ]
  },
  {
   "cell_type": "code",
   "execution_count": 7,
   "metadata": {},
   "outputs": [
    {
     "data": {
      "text/plain": [
       "0.9979997633895571"
      ]
     },
     "execution_count": 7,
     "metadata": {},
     "output_type": "execute_result"
    }
   ],
   "source": [
    "def simpson(f,a,b,x):\n",
    "    N = len(x)\n",
    "    deltax = (x[-1]-x[0])/N\n",
    "    I = 0\n",
    "    for i in range(N//2):\n",
    "        I += deltax/3*(f[2*i-2]+f[2*i]+4*f[2*i-1])\n",
    "    return I\n",
    "\n",
    "a = 0\n",
    "b = len(psi)-1\n",
    "N = len(psi)\n",
    "I = simpson(psi, a, b, x)\n",
    "I"
   ]
  },
  {
   "cell_type": "code",
   "execution_count": 8,
   "metadata": {},
   "outputs": [],
   "source": [
    "# solving the Schrödinger equation numerically with the method outlined above\n",
    "\n",
    "# constants\n",
    "Time = np.arange(0,1.0,0.001)                # time array\n",
    "dt = Time[2]-Time[1]                         # time displacement\n",
    "\n",
    "# initial list for our solutions\n",
    "Psi = []                                     # solution list\n",
    "Psi.append(psi0)                        # pushing our initial solution to our list\n",
    "\n",
    "I = np.identity(N)\n",
    "# Pseudo-Hamiltonian operator\n",
    "H_inv = np.linalg.inv((I+dt*1j/2*H))\n",
    "H_reg = (I-dt*1j/2*H)\n",
    "H_prime = np.dot(H_inv,H_reg)                # the square matrix product outlined from above\n",
    "\n",
    "# looping through our time array\n",
    "for i in range(len(Time)):\n",
    "    Psi.append(np.dot(H_prime,Psi[i]))       # pushing the latest solution to our list"
   ]
  },
  {
   "cell_type": "code",
   "execution_count": 9,
   "metadata": {},
   "outputs": [
    {
     "data": {
      "image/png": "[encoded data removed]",
      "text/plain": [
       "<Figure size 432x288 with 1 Axes>"
      ]
     },
     "metadata": {},
     "output_type": "display_data"
    },
    {
     "data": {
      "text/plain": [
       "<Figure size 432x288 with 0 Axes>"
      ]
     },
     "metadata": {},
     "output_type": "display_data"
    }
   ],
   "source": [
    "# making a directory to store each generated figure for making into gifs/videos in another notebook\n",
    "Video_Folder = \"Video-Folder\"\n",
    "path = \"Plot_0.25V-0.5Å\"\n",
    "if os.path.exists(Video_Folder) == True:\n",
    "    new_path = \"{}/{}\".format(Video_Folder, path)\n",
    "    if os.path.exists(new_path) == False:\n",
    "        os.makedirs(new_path)\n",
    "\n",
    "if os.path.exists(Video_Folder) == False:\n",
    "    os.makedirs(Video_Folder)\n",
    "    new_path = \"{}/{}\".format(Video_Folder, path)\n",
    "    os.makedirs(new_path)\n",
    "\n",
    "\n",
    "fig = plt.figure()\n",
    "x = np.linspace(-4, 4, N)\n",
    "x2 = np.linspace(-4, 4, N)\n",
    "barrier = np.zeros(N)\n",
    "barrier[int(N/2):int(int(N/2+width*N))] = V0\n",
    "i = 1\n",
    "\n",
    "# visualizing the time evolution\n",
    "while i < len(Psi)-400:\n",
    "    plt.plot(x,abs(Psi[i])**2, label = \"Normalized Wave Packet\")\n",
    "    plt.plot(x2,barrier, label = \"Potential Barrier\")\n",
    "    plt.ylim(0,2.7)\n",
    "    plt.xlim(-4.5, 4.5)\n",
    "    plt.title(\"E = V; time = {} seconds\".format(round(Time[i],3)))\n",
    "    plt.xlabel(\"Position [nm]\")\n",
    "    file = \"{}_{}Å.jpg\".format(round(Time[i],3),width*10)\n",
    "    # uncomment the next line if you want to save the generated figures\n",
    "    #plt.savefig(os.path.join(new_path, file))\n",
    "    time.sleep(0.001)\n",
    "    clear_output(wait = True)\n",
    "    display(fig)\n",
    "    fig.clear()\n",
    "    i += 25"
   ]
  },
  {
   "cell_type": "code",
   "execution_count": 10,
   "metadata": {},
   "outputs": [],
   "source": [
    "# making a function out of the time dependent case to save some space\n",
    "\n",
    "def Hamiltonian(N, width, V0, h):\n",
    "    T = K(N)\n",
    "    U = V(N, V0, width)\n",
    "    H = -1/h**2*T + U\n",
    "    return H\n",
    "\n",
    "def time_evolution(H, E, Time, x):\n",
    "    p0 = (2*E)**0.5                               # initial momentum\n",
    "    psi0 = C**0.5 * np.exp((-(x-x0)**2)/(4*sigma**2))* np.exp(1j*p0*x) # initial wavefunction\n",
    "    dt = Time[2]-Time[1]                         # time displacement\n",
    "\n",
    "    # initial list for our solutions\n",
    "    Psi = []                                     # solution list\n",
    "    Psi.append(psi0)                             # pushing our initial solution to our list\n",
    "\n",
    "    # Pseudo-Hamiltonian operator\n",
    "    H_inv = np.linalg.inv((I+dt*1j/2*H))\n",
    "    H_reg = (I-dt*1j/2*H)\n",
    "    H_prime = np.dot(H_inv,H_reg)                # the square matrix product outlined from above\n",
    "\n",
    "    # looping through our time array\n",
    "    for i in range(len(Time)):\n",
    "        Psi.append(np.dot(H_prime,Psi[i]))               # pushing the latest solution to our list\n",
    "    return Psi\n",
    "\n",
    "def visualize(psi, x, width, V0, E, main_folder, plot_folder):\n",
    "    Video_Folder = \"Video-Folder\"\n",
    "    path = \"Plot_0.25V-0.5Å\"\n",
    "    if os.path.exists(Video_Folder) == True:\n",
    "        new_path = \"{}/{}\".format(Video_Folder, path)\n",
    "        if os.path.exists(new_path) == False:\n",
    "            os.makedirs(new_path)\n",
    "\n",
    "    if os.path.exists(Video_Folder) == False:\n",
    "        os.makedirs(Video_Folder)\n",
    "        new_path = \"{}/{}\".format(Video_Folder, path)\n",
    "        os.makedirs(new_path)\n",
    "\n",
    "    fig = plt.figure()\n",
    "    barrier = np.zeros(N)\n",
    "    barrier[int(N/2):int(int(N/2+width*N))] = V0\n",
    "    i = 1\n",
    "\n",
    "    while i < len(psi)-400:\n",
    "        plt.plot(x,abs(psi[i])**2, label = \"Normalized Wave Packet\")\n",
    "        plt.plot(x,barrier, label = \"Potential Barrier\")\n",
    "        plt.ylim(0,2.7)\n",
    "        plt.xlim(-4.5, 4.5)\n",
    "        plt.title(\"E = {}V; time = {} seconds\".format(E/V0,round(Time[i],3)))\n",
    "        plt.xlabel(\"Position [nm]\")\n",
    "        file = \"{}_{}Å.jpg\".format(round(Time[i],3),width*10)\n",
    "        plt.savefig(os.path.join(new_path, file))\n",
    "        time.sleep(0.001)\n",
    "        clear_output(wait = True)\n",
    "        display(fig)\n",
    "        fig.clear()\n",
    "        i += 25"
   ]
  },
  {
   "cell_type": "markdown",
   "metadata": {},
   "source": [
    "___\n",
    "## Results and Discussion"
   ]
  },
  {
   "cell_type": "code",
   "execution_count": 11,
   "metadata": {},
   "outputs": [],
   "source": [
    "import pandas as pd"
   ]
  },
  {
   "cell_type": "code",
   "execution_count": 12,
   "metadata": {
    "scrolled": false
   },
   "outputs": [
    {
     "data": {
      "text/html": [
       "<div>\n",
       "<style scoped>\n",
       "    .dataframe tbody tr th:only-of-type {\n",
       "        vertical-align: middle;\n",
       "    }\n",
       "\n",
       "    .dataframe tbody tr th {\n",
       "        vertical-align: top;\n",
       "    }\n",
       "\n",
       "    .dataframe thead th {\n",
       "        text-align: right;\n",
       "    }\n",
       "</style>\n",
       "<table border=\"1\" class=\"dataframe\">\n",
       "  <thead>\n",
       "    <tr style=\"text-align: right;\">\n",
       "      <th></th>\n",
       "      <th>Tunneling Probability %</th>\n",
       "      <th>Barrier Width (nm)</th>\n",
       "      <th>Particle Energy (eV)</th>\n",
       "    </tr>\n",
       "  </thead>\n",
       "  <tbody>\n",
       "    <tr>\n",
       "      <td>0</td>\n",
       "      <td>0.000014</td>\n",
       "      <td>0.50</td>\n",
       "      <td>25</td>\n",
       "    </tr>\n",
       "    <tr>\n",
       "      <td>1</td>\n",
       "      <td>0.000182</td>\n",
       "      <td>0.50</td>\n",
       "      <td>50</td>\n",
       "    </tr>\n",
       "    <tr>\n",
       "      <td>2</td>\n",
       "      <td>0.002546</td>\n",
       "      <td>0.50</td>\n",
       "      <td>75</td>\n",
       "    </tr>\n",
       "    <tr>\n",
       "      <td>3</td>\n",
       "      <td>0.033888</td>\n",
       "      <td>0.50</td>\n",
       "      <td>95</td>\n",
       "    </tr>\n",
       "    <tr>\n",
       "      <td>4</td>\n",
       "      <td>0.236803</td>\n",
       "      <td>0.10</td>\n",
       "      <td>25</td>\n",
       "    </tr>\n",
       "    <tr>\n",
       "      <td>5</td>\n",
       "      <td>0.419974</td>\n",
       "      <td>0.10</td>\n",
       "      <td>50</td>\n",
       "    </tr>\n",
       "    <tr>\n",
       "      <td>6</td>\n",
       "      <td>0.560081</td>\n",
       "      <td>0.10</td>\n",
       "      <td>75</td>\n",
       "    </tr>\n",
       "    <tr>\n",
       "      <td>7</td>\n",
       "      <td>0.647628</td>\n",
       "      <td>0.10</td>\n",
       "      <td>95</td>\n",
       "    </tr>\n",
       "    <tr>\n",
       "      <td>8</td>\n",
       "      <td>0.638688</td>\n",
       "      <td>0.05</td>\n",
       "      <td>25</td>\n",
       "    </tr>\n",
       "    <tr>\n",
       "      <td>9</td>\n",
       "      <td>0.786448</td>\n",
       "      <td>0.05</td>\n",
       "      <td>50</td>\n",
       "    </tr>\n",
       "    <tr>\n",
       "      <td>10</td>\n",
       "      <td>0.851986</td>\n",
       "      <td>0.05</td>\n",
       "      <td>75</td>\n",
       "    </tr>\n",
       "    <tr>\n",
       "      <td>11</td>\n",
       "      <td>0.882863</td>\n",
       "      <td>0.05</td>\n",
       "      <td>95</td>\n",
       "    </tr>\n",
       "  </tbody>\n",
       "</table>\n",
       "</div>"
      ],
      "text/plain": [
       "    Tunneling Probability %  Barrier Width (nm)  Particle Energy (eV)\n",
       "0                  0.000014                0.50                    25\n",
       "1                  0.000182                0.50                    50\n",
       "2                  0.002546                0.50                    75\n",
       "3                  0.033888                0.50                    95\n",
       "4                  0.236803                0.10                    25\n",
       "5                  0.419974                0.10                    50\n",
       "6                  0.560081                0.10                    75\n",
       "7                  0.647628                0.10                    95\n",
       "8                  0.638688                0.05                    25\n",
       "9                  0.786448                0.05                    50\n",
       "10                 0.851986                0.05                    75\n",
       "11                 0.882863                0.05                    95"
      ]
     },
     "execution_count": 12,
     "metadata": {},
     "output_type": "execute_result"
    }
   ],
   "source": [
    "header = [\"Tunneling Probability\", \"Barrier Width (nm)\", \"Particle Energy\"]\n",
    "barrier_widths = [0.5, 0.1, 0.05]       # nm\n",
    "energies = [25, 50, 75, 95]             # eV\n",
    "Prob = []\n",
    "for i in barrier_widths:\n",
    "    for j in energies:\n",
    "        T = Tunnel(i, 100, j)\n",
    "        Prob.append(T)\n",
    "\n",
    "width_col = [0.5, 0.5, 0.5, 0.5, 0.1, 0.1, 0.1, 0.1, 0.05, 0.05, 0.05, 0.05]\n",
    "energy_col = [25, 50, 75, 95, 25, 50, 75, 95, 25, 50, 75, 95]\n",
    "data = {\"Tunneling Probability %\": Prob, \"Barrier Width (nm)\": width_col, \"Particle Energy (eV)\": energy_col}\n",
    "df = pd.DataFrame(data)\n",
    "df"
   ]
  },
  {
   "cell_type": "code",
   "execution_count": 13,
   "metadata": {},
   "outputs": [],
   "source": [
    "# defining the variables we are going to plot and save\n",
    "x = np.linspace(-5,5,N)\n",
    "\n",
    "H1 = Hamiltonian(500, 0.01, V0, x[2]-x[1])\n",
    "H2 = Hamiltonian(500, 0.05, V0, x[2]-x[1])\n",
    "\n",
    "Psi1_1Å = time_evolution(H1, 0.25*V0, Time, x)\n",
    "Psi1_5Å = time_evolution(H2, 0.25*V0, Time, x)\n",
    "\n",
    "Psi2_1Å = time_evolution(H1, 0.5*V0, Time, x)\n",
    "Psi2_5Å = time_evolution(H2, 0.5*V0, Time, x)"
   ]
  },
  {
   "cell_type": "code",
   "execution_count": 14,
   "metadata": {},
   "outputs": [
    {
     "data": {
      "image/png": "[encoded data removed]",
      "text/plain": [
       "<Figure size 432x288 with 1 Axes>"
      ]
     },
     "metadata": {},
     "output_type": "display_data"
    },
    {
     "data": {
      "text/plain": [
       "<Figure size 432x288 with 0 Axes>"
      ]
     },
     "metadata": {},
     "output_type": "display_data"
    }
   ],
   "source": [
    "visualize(Psi1_5Å, x, 0.05, V0, 0.25*V0, \"Test_Folder\", \"Plot_Folder_E=0.25_width=5Å\")"
   ]
  },
  {
   "cell_type": "code",
   "execution_count": 15,
   "metadata": {},
   "outputs": [
    {
     "name": "stdout",
     "output_type": "stream",
     "text": [
      "0.00031409059908827844\n"
     ]
    }
   ],
   "source": [
    "a = 300\n",
    "b = len(x)-1\n",
    "PSI = np.abs(Psi1_5Å[-1])**2\n",
    "x_int = x[300:]\n",
    "print(simpson(PSI[300:], a, b, x_int))"
   ]
  },
  {
   "cell_type": "markdown",
   "metadata": {},
   "source": [
    "Here we can see that as the wave-packet propogates through free space the distribution begins to widen out, which is a good sign because this is what we would expect! Then as it the wave-packet makes contact with the barrier there is a spike in the probability distribution near the incident side. Some of the wave-packet penetrates through the incident side of the barrier but next to none of it is able to succesfully propogate through to the opposite side. "
   ]
  },
  {
   "cell_type": "code",
   "execution_count": 16,
   "metadata": {},
   "outputs": [
    {
     "data": {
      "image/png": "[encoded data removed]",
      "text/plain": [
       "<Figure size 432x288 with 1 Axes>"
      ]
     },
     "metadata": {},
     "output_type": "display_data"
    },
    {
     "data": {
      "text/plain": [
       "<Figure size 432x288 with 0 Axes>"
      ]
     },
     "metadata": {},
     "output_type": "display_data"
    }
   ],
   "source": [
    "visualize(Psi1_1Å, x, 0.01, V0, 0.25*V0, \"Test_Folder\", \"Plot_Folder_E=0.25_width=1Å\")"
   ]
  },
  {
   "cell_type": "code",
   "execution_count": 17,
   "metadata": {},
   "outputs": [
    {
     "name": "stdout",
     "output_type": "stream",
     "text": [
      "0.3454622901844499\n"
     ]
    }
   ],
   "source": [
    "a = 255\n",
    "x_int = x[a:]\n",
    "PSI = np.abs(Psi1_1Å[-1])**2\n",
    "print(simpson(PSI[a:], a, b, x_int))"
   ]
  },
  {
   "cell_type": "markdown",
   "metadata": {},
   "source": [
    "Similar to the previous plot, the wave-packet widens as it moves through free space and then once it makes contact with the potential barrier we see the large spike again. This time however, which a much narrower potential barrier, we actually get to see the wave-packet penetrate all the way through on the other side and we can see that there is a measurable probability distribution on the opposite side. This is a very insteresting result to ponder over since the wave-packet here only has 0.25 times the energy of the potential barrier which is quite small in actuality, we would never expect to find it on the opposite side!"
   ]
  },
  {
   "cell_type": "code",
   "execution_count": 18,
   "metadata": {},
   "outputs": [
    {
     "data": {
      "image/png": "[encoded data removed]",
      "text/plain": [
       "<Figure size 432x288 with 1 Axes>"
      ]
     },
     "metadata": {},
     "output_type": "display_data"
    },
    {
     "data": {
      "text/plain": [
       "<Figure size 432x288 with 0 Axes>"
      ]
     },
     "metadata": {},
     "output_type": "display_data"
    }
   ],
   "source": [
    "visualize(Psi2_1Å, x, 0.01, V0, 0.5*V0, \"Test_Folder\", \"Plot_Folder_E=0.5_width=1Å\")"
   ]
  },
  {
   "cell_type": "code",
   "execution_count": 19,
   "metadata": {},
   "outputs": [
    {
     "name": "stdout",
     "output_type": "stream",
     "text": [
      "0.5027156311682779\n"
     ]
    }
   ],
   "source": [
    "PSI = np.abs(Psi2_1Å[-1])**2\n",
    "print(simpson(PSI[a:], a, b, x_int))"
   ]
  },
  {
   "cell_type": "markdown",
   "metadata": {},
   "source": [
    "Now as we increase the kinetic energy of the wave-packet and keep the barrier width fixed at 1Å (0.1nm), we have a much better probability of finding the wave-packet on the opposite side of the barrier. In this particular case, tunneling is not only a possibility but a probability of occuring."
   ]
  },
  {
   "cell_type": "code",
   "execution_count": 20,
   "metadata": {},
   "outputs": [
    {
     "data": {
      "image/png": "[encoded data removed]",
      "text/plain": [
       "<Figure size 432x288 with 1 Axes>"
      ]
     },
     "metadata": {},
     "output_type": "display_data"
    },
    {
     "data": {
      "text/plain": [
       "<Figure size 432x288 with 0 Axes>"
      ]
     },
     "metadata": {},
     "output_type": "display_data"
    }
   ],
   "source": [
    "visualize(Psi2_5Å, x, 0.05, V0, 0.5*V0, \"Test_Folder\", \"Plot_Folder_E=0.5_width=5Å\")"
   ]
  },
  {
   "cell_type": "code",
   "execution_count": 21,
   "metadata": {},
   "outputs": [
    {
     "name": "stdout",
     "output_type": "stream",
     "text": [
      "0.005252453443615342\n"
     ]
    }
   ],
   "source": [
    "a = 300\n",
    "x_int = x[300:]\n",
    "PSI = np.abs(Psi2_5Å[-1])**2\n",
    "print(simpson(PSI[a:], a, b, x_int))"
   ]
  },
  {
   "cell_type": "markdown",
   "metadata": {},
   "source": [
    "Here we see that the tunneling probability when we increase the width of the barrier goes down again, reinforcing the trend we see in the other plot as well as the plot earlier in the notebook displaying the tunneling probability as a function of barrier width. Much of the same trends still hold in this animation, when the wave-packet makes initial contact with the barrier we see a large spike in finding the probabiliity in and around that region and we can see that there is a small probability of finding the packet on the other side of the barrier."
   ]
  },
  {
   "cell_type": "markdown",
   "metadata": {},
   "source": [
    "##  Conclusion and Perspectives"
   ]
  },
  {
   "cell_type": "markdown",
   "metadata": {},
   "source": [
    "This method/model seems to do a good job at modeling the behavior of a Gaussian wave-packet around the rectangular potential barrier. Each of the figures provides intuitive illustrations of the tunneling probability based upon the results calculated using equation (4). The results can show that when the width of the potential barrier is increased, the tunneling probability decays accordingly. Similarly, as particle energy (relative to the barrier energy) goes up, so does the tunneling probability. \n",
    "\n",
    "A notable pro to this model is its ability to provide accurate results with relatively large time step intervals. Each simulation in this model was carried out with time steps of size $\\Delta t = 0.001$. This larger step size allows for faster run times and less computational costs but still provides reasonable accuracy for this particular problem. In reference 3. the step size used in that model was on the order of $10^{-5}$, that small of a step size begins to add up quickly and can lead to very long run times, giving this model a slight edge in that regard. Some notable cons to this model is that this numerical method chosen becomes much more convoluted and complicated when the dimension increases from one to two, meaning it may be more beneficial or easier to carry out the simulation with a different method in multiple dimensions. Another con is that the numerical resolution is dependent on the size of each matrix, the larger the matrix the larger the resolution, but with large matrices the number of computations carried out goes up and run times follow.\n",
    "\n",
    "Further applications for this model would be to carry out the calculation in more than one dimension, most realistically in 2D as opposed to this 1D example. This concept of tunneling and this model in particular can also be altered around different potential energies. The diagonal matrix of the potential energy listed in the methods can be altered to that of the Woods-Saxon potential, for example, to model quantum tunneling that can occur in nuclear fusion. Another possible avenue this model can be used to investigate is particle diffraction similar to the double-slit experiment. This can, presumably, provide an accurate and reliable model to recreate the findings that took place in the double-slit experiment. "
   ]
  },
  {
   "cell_type": "markdown",
   "metadata": {},
   "source": [
    "## References"
   ]
  },
  {
   "cell_type": "markdown",
   "metadata": {},
   "source": [
    "1. David McIntyre, Quantum Mechanics A Paradigms Approach, Pearson Addison-Wesley, 1301 Sansome St., San Francisco, CA 94111 2012, p189-190 \n",
    "2. Norman Birge, PHY 471 Class Lecture Notes, Michigan State University, 2021\n",
    "3. Loren Jørgensen, David Lopes Cardozo, Etienne Thibierge, Numerical Resolution Of The Schrödinger Equation, École Normale Supérieure de Lyon Master Sciences de la Matière 2011 Numerical Analysis Project\n",
    "4. Wikipedia contributors\n",
    "    Rectangular potential barrier, \"Wikipedia The Free Encyclopedia\",\n",
    "    2022, https://en.wikipedia.org/w/index.php?title=Rectangular_potential_barrier&oldid=1078605801, accessed 27-April-2022\n",
    "5. Wikipedia contributors, Crank–Nicolson method, \"Wikipedia The Free Encyclopedia\", 2022, https://en.wikipedia.org/w/index.php?title=Crank%E2%80%93Nicolson_method&oldid=1082127168, accessed 27-April-2022"
   ]
  },
  {
   "cell_type": "markdown",
   "metadata": {},
   "source": [
    "##  Appendices\n",
    "\n",
    "#### Derivation of the Tunneling Probability Formula\n",
    "\n",
    "Here we will still have our three separate solutions for each specified region around the potential, namely:\n",
    "$$ \\psi(x) = \\begin{cases} A_1e^{i\\frac{\\sqrt{2mE}}{\\hbar}x} + A_2e^{-i\\frac{\\sqrt{2mE}}{\\hbar}x} & \\text{for } x < 0 \\\\ B_1e^{\\sqrt{\\frac{2m(V_0 - E)}{\\hbar^2}}x} + B_2e^{-\\sqrt{\\frac{2m(V_0 - E)}{\\hbar^2}}x} & \\text{for } 0 \\leq x \\leq a \\\\ C_1e^{i\\frac{\\sqrt{2mE}}{\\hbar}x} & \\text{for }  x > a \\end{cases} $$\n",
    "\n",
    "We have gone ahead and set $C_2 = 0$ since we are dealing with one and only one particle and are therefore not expecting any to be coming from the positive direction moving towards the negative direction.\n",
    "\n",
    "We know that at $x = 0$, $\\psi$ has to be continuous from region A to region B and also its derivative must be continuous at $x = 0$, the same goes for when $x = a$, evaluating $\\psi$ at these boundary conditions gives:\n",
    "\n",
    "\\begin{equation}\n",
    "    \\psi(0): A_1e^0 + A_2e^0 = A_1 + A_2 = B_1e^0 + B_2e^0 = B_1 + B_2\n",
    "\\end{equation}\n",
    "\n",
    "\\begin{equation}\n",
    "    \\frac{d\\psi}{dx}\\bigg\\rvert_{x=0}: i\\frac{\\sqrt{2mE}}{\\hbar}A_1e^0 - i\\frac{\\sqrt{2mE}}{\\hbar}A_2e^0 = \\sqrt{\\frac{2m(V0-E)}{\\hbar^2}}B_1e^0 - \\sqrt{\\frac{2m(V0-E)}{\\hbar^2}}B_2e^0\n",
    "\\end{equation}\n",
    "\n",
    "\\begin{equation}\n",
    "    \\psi(a): B_1e^{\\sqrt{\\frac{2m(V0-E)}{\\hbar^2}}a}+B_2e^{-\\sqrt{\\frac{2m(V0-E)}{\\hbar^2}}a} = C_1e^{i\\frac{\\sqrt{2mE}}{\\hbar}a}\n",
    "\\end{equation}\n",
    "\n",
    "\\begin{equation}\n",
    "    \\frac{d\\psi}{dx}\\bigg\\rvert_{x=a}: \\sqrt{\\frac{2m(V0-E)}{\\hbar^2}}B_1e^{\\sqrt{\\frac{2m(V0-E)}{\\hbar^2}}a} - \\sqrt{\\frac{2m(V0-E)}{\\hbar^2}}B_2e^{-\\sqrt{\\frac{2m(V0-E)}{\\hbar^2}}a} = i\\frac{\\sqrt{2mE}}{\\hbar}C_1e^{i\\frac{\\sqrt{2mE}}{\\hbar}a}\n",
    "\\end{equation}\n",
    "\n",
    "From here we will go ahead and make two substitutions by letting: $ k = \\frac{\\sqrt{2mE}}{\\hbar}$ and $q = \\sqrt{\\frac{2m(V0-E)}{\\hbar^2}}$\n",
    "So from here we know our boundary conditions are:\n",
    "\\begin{gather}\n",
    " A_1 + A_2 = B_1 + B_2 \\\\\n",
    "ikA_1 - ikA_2 = qB_1 - qB_2 \\\\\n",
    "B_1e^{qa} + B_2e^{-qa} = C_1e^{ika} \\\\\n",
    "qB_1e^{qa}-qB_2e^{-qa} = ikC_1e^{ika}\n",
    "\\end{gather}\n",
    "Using (10), we can see that:\n",
    "\\begin{equation}\n",
    "A_2 = B_1 + B_2 - A_1\n",
    "\\end{equation}\n",
    "And then looking at (13) by dividing both sides of the equality by q renders:\n",
    "\\begin{equation}\n",
    "B_1e^{aq} - B_2e^{-aq} = \\frac{ik}{q}C_1e^{ika}\n",
    "\\end{equation}\n",
    "By adding (13) and (15) together and subtracting (15) from (13), the expression is respectively:\n",
    "\\begin{gather}\n",
    "2B_1e^{aq} = \\frac{ik}{q}C_1e^{ika} + C_1e^{ika} \\\\ 2B_2e^{-aq} = C_1e^{ika} - \\frac{ik}{q}C_1e^{ika}\n",
    "\\end{gather}\n",
    "Simplifying (16) and (17) further gives expressions for $B_1$ and $B_2$\n",
    "\\begin{gather}\n",
    "B_1 = \\frac{ik+q}{2}C_1e^{(ik-q)a} \\\\ B_2 = -\\frac{ik-q}{2}C_1e^{(ik+q)a}\n",
    "\\end{gather}\n",
    "Using equations (14),  (18), and (19) into equation (11) can allow us to relate $C_1$ with $A_1$. Doing so gives us:\n",
    "\\begin{gather}\n",
    "ikA_1 - ik(B_1 + B_2 - A_1)  = qB_1 - qB_2 \\\\ 2ikA_1 = ikB_1 + qB_1 + ikB_2 - qB_2 \\\\ 2ikA_1 = (ik+q)B_1 + (ik-q)B_2 \\\\ 2ikA_1 = \\frac{(ik+q)^2}{2q}C_1e^{(ik-q)a} - \\frac{(ik-q)^2}{2q}C_1e^{(ik+q)a}\n",
    "\\end{gather}\n",
    "Multiplying both sides of equation (23) by 2q\n",
    "\\begin{gather}\n",
    "4ikqA_1 = (ik+q)^2C_1e^{(ik-q)a} - (ik-q)^2C_1e^{(ik+q)a} \\\\ 4ikqA_1 = C_1e^{ika}\\left [  (ik+q)^2e^{-aq} - (ik-q)^2e^{aq}\\right]  \\\\ 4ikqA_1e^{-ika} = C_1\\left[(ik+q)^2e^{-aq} - (ik-q)^2e^{aq}\\right]  \\\\ 4ikqA_1e^{-ika} = C_1\\left[(-k^2 + 2ikq + q^2)e^{-aq}-(-k^2-2ikq+q^2)e^{aq} \\right] \\\\ 4ikqA_1e^{-ika} = C_1\\left[k^2(e^{aq}-e^{-aq}) +2ikq(e^{aq}+e^{-aq})  + q^2(e^{-aq}-e^{aq})\\right ]  \\\\ 4ikqA_1e^{-ika} = C_1\\left[(k^2-q^2)(e^{aq}-e^{-aq}) + 2ikq(e^{-aq}+e^{aq})\\right] \\\\ 4ikqA_1e^{-ika} = C_1\\left[2(k^2-q^2)\\sinh{(aq)}+4ikq\\cosh{(aq)}\\right]\n",
    "\\end{gather}\n",
    "Now we have explicitly an equation relating $A_1$ with $C_1$ and so now we can solve for $\\frac{C_1}{A_1}$:\n",
    "\\begin{gather}\n",
    "    \\frac{C_1}{A_1} = \\frac{4ikqA_1e^{-ika}}{2(k^2-q^2)\\sinh{(aq)}+4ikq\\cosh{(aq)}} \\\\ \\frac{C_1}{A_1} = \\frac{2ikqA_1e^{-ika}}{(k^2-q^2)\\sinh{(aq)}+2ikq\\cosh{(aq)}}\n",
    "\\end{gather}\n",
    "\n",
    "Recall that the transmission coefficient (tunneling probability) is defined as: $T = \\frac{|C_1|^2}{|A_1|^2}$. Using this we can see:\n",
    "\n",
    "\\begin{gather}\n",
    "    \\frac{|C_1|^2}{|A_1|^2} = \\frac{(2ikqA_1e^{-ika})(-2ikqA_1e^{ika})}{((k^2-q^2)\\sinh{(aq)}+2ikq\\cosh{(aq)})((k^2-q^2)\\sinh{(aq)}-2ikq\\cosh{(aq)})} \\\\ T = \\frac{4k^2q^2}{(k^2-q^2)\\sinh^2{(aq)}+4k^2q^2\\cosh^2{(aq)}} \\\\ T = \\frac{4k^2q^2}{(k^4-2k^2q^2+q^4)\\sinh^2{(aq)} + 4k^2q^2\\cosh^2{(aq)}} \\\\ T = \\frac{4k^2q^2}{(k^4+q^4)\\sinh^2{(aq)}+4k^2q^2\\cosh^2{(aq)}-2k^2q^2\\sinh^2{(aq)}} \\\\ T = \\frac{4k^2q^2}{(k^4+q^4)\\sinh^2{(aq)}+2k^2q^2(2\\cosh^2{(aq)}-\\sinh^2{(aq)})}\n",
    "\\end{gather}\n",
    "\n",
    "Using the identity of hyperbolic trigonometry functions that $\\cosh^2{(aq)} = 1 + \\sinh^2{(aq)}$ our equation becomes:\n",
    "\n",
    "\\begin{gather}\n",
    "    T = \\frac{4k^2q^2}{(k^4+q^4)\\sinh^2{(aq)}+2k^2q^2(2 + \\sinh^2{(aq)})} \\\\T = \\frac{4k^2q^2}{(k^4+q^4)\\sinh^2{(aq)} + 2k^2q^2\\sinh^2{(aq)}+4k^2q^2} \\\\ T = \\frac{4k^2q^2}{(k^2+q^2)^2\\sinh^2{(aq)} + 4k^2q^2}\n",
    "\\end{gather}\n",
    "\n",
    "This next step may seem somewhat pointless at first but turns out to helpful in getting to our final expression. We will flip the numerator and denominator in our fraction and raise it all to the -1 power\n",
    "\n",
    "\\begin{gather}\n",
    "    T = \\left[\\frac{(k^2+q^2)^2\\sinh^2{(aq)} + 4k^2q^2}{4k^2q^2} \\right]^{-1} \\\\ T = \\left[\\frac{(k^2+q^2)^2\\sinh^2{(aq)}2}{4k^2q^2} + 1 \\right]^{-1} \\\\ T = \\frac{1}{1+\\frac{(k^2+q^2)^2}{4k^2q^2}\\sinh^2{(aq)}}\n",
    "\\end{gather}\n",
    "\n",
    "And now, finally substituting back into the expression our previously defined constants of k and q we have:\n",
    "\n",
    "\\begin{gather}\n",
    "    T = \\frac{1}{1 + \\frac{(\\frac{2mE}{\\hbar^2}+\\frac{2m(V_0-E}{\\hbar^2})^2}{4(\\frac{2mE}{\\hbar^2})(\\frac{2m(V_0-E)}{\\hbar^2}}\\sinh^2{(\\frac{a}{\\hbar}\\sqrt{2m(V_0-E)})}} \\\\ T = \\frac{1}{1 + \\frac{\\frac{4m^2V_0^2}{\\hbar^4}}{4\\frac{4m^2E(V_0-E)}{\\hbar^4}}\\sinh^2{\\frac{a}{\\hbar}\\sqrt{2m(V_0-E)}}}\n",
    "\\end{gather}\n",
    "\n",
    "Finally provides the expression for the transmission probability:\n",
    "\n",
    "\\begin{equation}\n",
    "    T = \\frac{1}{1+\\frac{V_0^2}{4E(V_0-E)}\\sinh^2{(\\frac{a}{\\hbar}\\sqrt{2m(V_0-E)})}}\n",
    "\\end{equation}\n",
    "\n",
    "#### Derivation of the Second Order Central Finite Difference Formula\n",
    "\n",
    "Consider the two expressions $f(x+\\Delta x)$ and $f(x-\\Delta x)$. By Taylor's Theorem, approximations can be made for each:\n",
    "\\begin{gather}\n",
    "    f(x+\\Delta x) \\approx f(x) + \\Delta xf'(x) + \\Delta x^2\\frac{f''(x)}{2} + \\Delta x^3\\frac{f'''(x)}{6} + \\Delta x^4\\frac{f^{(4)}(\\zeta)}{24} + ... \\\\ f(x-\\Delta x) \\approx f(x) - \\Delta xf'(x) + \\Delta x^2\\frac{f''(x)}{2} - \\Delta x^3\\frac{f'''(x)}{6} + \\Delta x^4\\frac{f^{(4)}(\\zeta)}{24} + ...\n",
    "\\end{gather}\n",
    "By adding equations (47) and (48) all of the odd ordered terms in the summation will cancel one another and the expression becomes:\n",
    "\\begin{gather}\n",
    "    f(x+\\Delta x) + f(x-\\Delta x) = 2f(x) + \\Delta x^2f''(x) + \\Delta x^4\\frac{f^{(4)}(\\zeta)}{12} + ... \\\\ \\Delta x^2f''(x) = f(x+\\Delta x) + f(x-\\Delta x) - 2f(x) - \\Delta x^4\\frac{f^{(4)}(\\zeta)}{12} - ... \n",
    "\\end{gather}\n",
    "All other terms of order 4 and higher are going to be very small, so the approximation can be made that:\n",
    "\\begin{gather}\n",
    "    \\Delta x^2 f''(x) \\approx \\Delta x^2f''(x) = f(x+\\Delta x) + f(x-\\Delta x) - 2f(x)\n",
    "\\end{gather}\n",
    "And so, \n",
    "\\begin{equation}\n",
    "    f''(x) \\approx \\frac{f(x+\\Delta x) + f(x-\\Delta x) - 2f(x)}{\\Delta x^2}\n",
    "\\end{equation}\n",
    "When dealing with a set of points with the distance between each point being $\\Delta x$, then the expression is:\n",
    "\n",
    "\\begin{equation}\n",
    "    f_i''\\approx \\frac{f_{i+1}+f_{i-1}-2f_i}{\\Delta x^2}\n",
    "\\end{equation}"
   ]
  }
 ],
 "metadata": {
  "kernelspec": {
   "display_name": "Python 3 (ipykernel)",
   "language": "python",
   "name": "python3"
  },
  "language_info": {
   "codemirror_mode": {
    "name": "ipython",
    "version": 3
   },
   "file_extension": ".py",
   "mimetype": "text/x-python",
   "name": "python",
   "nbconvert_exporter": "python",
   "pygments_lexer": "ipython3",
   "version": "3.7.10"
  }
 },
 "nbformat": 4,
 "nbformat_minor": 4
}
